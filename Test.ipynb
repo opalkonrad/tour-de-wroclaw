{
 "cells": [
  {
   "cell_type": "code",
   "execution_count": 1,
   "id": "163dc56b",
   "metadata": {},
   "outputs": [],
   "source": [
    "import networkx as nx\n",
    "\n",
    "from src.graph.graph_generator import GraphGenerator"
   ]
  },
  {
   "cell_type": "code",
   "execution_count": 2,
   "id": "ceb4569f",
   "metadata": {},
   "outputs": [],
   "source": [
    "sciezki = GraphGenerator().read_graph(\"data/official\")"
   ]
  },
  {
   "cell_type": "code",
   "execution_count": 3,
   "id": "4d4adb47",
   "metadata": {},
   "outputs": [
    {
     "data": {
      "text/plain": [
       "[(1, {'pos': (17.05105179721908, 51.10552573556749)}),\n",
       " (2, {'pos': (17.051100797245194, 51.105524399131106)}),\n",
       " (3, {'pos': (17.04652980772954, 51.108920996994755)}),\n",
       " (4, {'pos': (17.046540597303316, 51.10882741331448)}),\n",
       " (5, {'pos': (17.046542407898517, 51.10873942261532)}),\n",
       " (6, {'pos': (17.046489099876215, 51.1086676322474)}),\n",
       " (7, {'pos': (17.046338940550687, 51.10857255975646)}),\n",
       " (8, {'pos': (17.04657166816933, 51.111696234499604)}),\n",
       " (9, {'pos': (17.046466989512595, 51.11175831409584)}),\n",
       " (10, {'pos': (17.046350022036584, 51.11178574421606)}),\n",
       " (11, {'pos': (17.0457573425917, 51.111869548102625)}),\n",
       " (12, {'pos': (17.045402694974314, 51.11191660270338)}),\n",
       " (13, {'pos': (17.044870794348796, 51.111983614713196)}),\n",
       " (14, {'pos': (17.044839765271703, 51.111949110546234)}),\n",
       " (15, {'pos': (17.044387409379386, 51.112006780775666)}),\n",
       " (16, {'pos': (17.044256375542712, 51.111984302672596)}),\n",
       " (17, {'pos': (17.043997637514455, 51.11199788621499)}),\n",
       " (18, {'pos': (17.043817559046712, 51.112044935592024)}),\n",
       " (19, {'pos': (17.043106544502706, 51.11222179043273)}),\n",
       " (20, {'pos': (17.04311838009696, 51.111482363299736)})]"
      ]
     },
     "execution_count": 3,
     "metadata": {},
     "output_type": "execute_result"
    }
   ],
   "source": [
    "sl = list(sciezki.nodes.items())[:20]\n",
    "sl"
   ]
  },
  {
   "cell_type": "code",
   "execution_count": 38,
   "id": "35b2a50c",
   "metadata": {},
   "outputs": [
    {
     "data": {
      "text/plain": [
       "{None,\n",
       " 'droga dla pieszych i rowerów',\n",
       " 'droga dla rowerów',\n",
       " 'kontrapas',\n",
       " 'kontraruch',\n",
       " 'możliwość przejazdu',\n",
       " 'pas BUS + ROWER',\n",
       " 'pas ruchu dla rowerów',\n",
       " 'strefa ruchu uspokojonego 20 i 30 km/h',\n",
       " 'trasa na wałach',\n",
       " 'trasa przez park',\n",
       " 'łącznik drogowy'}"
      ]
     },
     "execution_count": 38,
     "metadata": {},
     "output_type": "execute_result"
    }
   ],
   "source": [
    "typy = set([i.get(\"type\") for i in sciezki.edges.values()])\n",
    "typy"
   ]
  },
  {
   "cell_type": "code",
   "execution_count": 4,
   "id": "0b001d3c",
   "metadata": {},
   "outputs": [
    {
     "data": {
      "text/plain": [
       "(20, {'pos': (17.04311838009696, 51.111482363299736)})"
      ]
     },
     "execution_count": 4,
     "metadata": {},
     "output_type": "execute_result"
    }
   ],
   "source": [
    "max(sl, key=lambda x: x[0])"
   ]
  },
  {
   "cell_type": "code",
   "execution_count": 5,
   "id": "f1803256",
   "metadata": {},
   "outputs": [
    {
     "data": {
      "text/plain": [
       "[((1, 2),\n",
       "  {'length': 0.0034243079425882437,\n",
       "   'type': 'droga dla pieszych i rowerów',\n",
       "   'direction': 2.0}),\n",
       " ((1, 19351),\n",
       "  {'length': 0.00851833757835794,\n",
       "   'type': 'droga dla pieszych i rowerów',\n",
       "   'direction': 2.0}),\n",
       " ((1, 52646),\n",
       "  {'length': 0.020012760521502394,\n",
       "   'type': 'droga dla rowerów',\n",
       "   'direction': 2.0}),\n",
       " ((1, 81736),\n",
       "  {'length': 0.01817516505124869,\n",
       "   'type': 'strefa ruchu uspokojonego 20 i 30 km/h',\n",
       "   'direction': 2.0}),\n",
       " ((2, 66477),\n",
       "  {'length': 0.046424317475681355,\n",
       "   'type': 'droga dla pieszych i rowerów',\n",
       "   'direction': 2.0}),\n",
       " ((3, 4),\n",
       "  {'length': 0.010433257293806257,\n",
       "   'type': 'droga dla pieszych i rowerów',\n",
       "   'direction': 2.0}),\n",
       " ((3, 1658),\n",
       "  {'length': 0.019274480834881185,\n",
       "   'type': 'droga dla pieszych i rowerów',\n",
       "   'direction': 2.0}),\n",
       " ((3, 1664),\n",
       "  {'length': 0.036166095087968884,\n",
       "   'type': 'droga dla pieszych i rowerów',\n",
       "   'direction': 2.0}),\n",
       " ((3, 4063),\n",
       "  {'length': 0.0018347509996322056,\n",
       "   'type': 'trasa przez park',\n",
       "   'direction': 2.0}),\n",
       " ((4, 5),\n",
       "  {'length': 0.009784935819193794,\n",
       "   'type': 'droga dla pieszych i rowerów',\n",
       "   'direction': 2.0}),\n",
       " ((5, 6),\n",
       "  {'length': 0.0088076223337752,\n",
       "   'type': 'droga dla pieszych i rowerów',\n",
       "   'direction': 2.0}),\n",
       " ((6, 7),\n",
       "  {'length': 0.014888048730273887,\n",
       "   'type': 'droga dla pieszych i rowerów',\n",
       "   'direction': 2.0}),\n",
       " ((7, 66284),\n",
       "  {'length': 0.004495659255192528,\n",
       "   'type': 'droga dla pieszych i rowerów',\n",
       "   'direction': 2.0}),\n",
       " ((7, 67949),\n",
       "  {'length': 0.0029567769526371275,\n",
       "   'type': 'droga dla pieszych i rowerów',\n",
       "   'direction': 2.0}),\n",
       " ((8, 9),\n",
       "  {'length': 0.010052345029332783,\n",
       "   'type': 'droga dla rowerów',\n",
       "   'direction': 2.0}),\n",
       " ((8, 36350),\n",
       "  {'length': 0.009060521723714398,\n",
       "   'type': 'droga dla rowerów',\n",
       "   'direction': 2.0}),\n",
       " ((8, 68527),\n",
       "  {'length': 0.03229416170583307,\n",
       "   'type': 'droga dla pieszych i rowerów',\n",
       "   'direction': 2.0}),\n",
       " ((9, 10),\n",
       "  {'length': 0.0087163991653925,\n",
       "   'type': 'droga dla rowerów',\n",
       "   'direction': 2.0}),\n",
       " ((10, 11),\n",
       "  {'length': 0.0424104453787805,\n",
       "   'type': 'droga dla rowerów',\n",
       "   'direction': 2.0}),\n",
       " ((11, 12),\n",
       "  {'length': 0.025304213893768288,\n",
       "   'type': 'droga dla rowerów',\n",
       "   'direction': 2.0})]"
      ]
     },
     "execution_count": 5,
     "metadata": {},
     "output_type": "execute_result"
    }
   ],
   "source": [
    "list(sciezki.edges.items())[:20]  # len in km"
   ]
  },
  {
   "cell_type": "code",
   "execution_count": 6,
   "id": "664503f8",
   "metadata": {},
   "outputs": [],
   "source": [
    "attractions = GraphGenerator().read_graph(\"data/attractions\")"
   ]
  },
  {
   "cell_type": "code",
   "execution_count": 7,
   "id": "4b3b7544",
   "metadata": {},
   "outputs": [
    {
     "data": {
      "text/plain": [
       "[(1, {'pos': (17.005575, 51.1285499), 'name': None, 'id': 1}),\n",
       " (2, {'pos': (17.0228408, 51.1107048), 'name': 'Państwo Krasnalscy', 'id': 2}),\n",
       " (3, {'pos': (17.0304809, 51.1111876), 'name': 'Śpioch', 'id': 3}),\n",
       " (4, {'pos': (17.0324688, 51.1123983), 'name': 'Więziennik', 'id': 4}),\n",
       " (5, {'pos': (17.0316579, 51.1100205), 'name': 'TynQuś', 'id': 5}),\n",
       " (6, {'pos': (17.0337939, 51.1110932), 'name': 'Pierożnik', 'id': 6}),\n",
       " (7, {'pos': (17.0312014, 51.1104557), 'name': 'Życzliwek', 'id': 7}),\n",
       " (8, {'pos': (17.0288251, 51.1122946), 'name': 'Krasnal Teatralny', 'id': 8}),\n",
       " (9, {'pos': (17.0316685, 51.1095762), 'name': 'W-Skers', 'id': 9}),\n",
       " (10, {'pos': (17.0276391, 51.0950539), 'name': 'Kupczyk', 'id': 10}),\n",
       " (11, {'pos': (17.0332222, 51.1096058), 'name': 'Kolekcjoner', 'id': 11}),\n",
       " (12, {'pos': (17.0303313, 51.1121319), 'name': 'Rzeźnik', 'id': 12}),\n",
       " (13,\n",
       "  {'pos': (17.0305888, 51.1113077), 'name': 'Dietrich Bonhoeffer', 'id': 13}),\n",
       " (14, {'pos': (17.0268434, 51.1012216), 'name': 'Wrocławianin', 'id': 14}),\n",
       " (15, {'pos': (17.0343733, 51.1097809), 'name': 'Klucznik', 'id': 15}),\n",
       " (16,\n",
       "  {'pos': (17.0456361, 51.1141637),\n",
       "   'name': 'Madonna z Dzieciątkiem',\n",
       "   'id': 16}),\n",
       " (17, {'pos': (17.0372048, 51.0947936), 'name': 'Freudek', 'id': 17}),\n",
       " (18, {'pos': (17.016553, 51.088544), 'name': 'Luminator', 'id': 18}),\n",
       " (19, {'pos': (16.9844633, 51.1127897), 'name': 'Alpinki', 'id': 19}),\n",
       " (20, {'pos': (17.0239235, 51.1083231), 'name': 'Temidek', 'id': 20})]"
      ]
     },
     "execution_count": 7,
     "metadata": {},
     "output_type": "execute_result"
    }
   ],
   "source": [
    "list(attractions.nodes.items())[:20]"
   ]
  },
  {
   "cell_type": "code",
   "execution_count": 8,
   "id": "68ad9e9e",
   "metadata": {},
   "outputs": [],
   "source": [
    "lt = list(attractions.nodes.items())[:20]"
   ]
  },
  {
   "cell_type": "code",
   "execution_count": 9,
   "id": "5bf17dca",
   "metadata": {},
   "outputs": [],
   "source": [
    "roads = GraphGenerator().read_graph(\"data/roads\")"
   ]
  },
  {
   "cell_type": "code",
   "execution_count": 10,
   "id": "51867d74",
   "metadata": {},
   "outputs": [
    {
     "data": {
      "text/plain": [
       "363567"
      ]
     },
     "execution_count": 10,
     "metadata": {},
     "output_type": "execute_result"
    }
   ],
   "source": [
    "len(list(roads.nodes.items()))"
   ]
  },
  {
   "cell_type": "code",
   "execution_count": 11,
   "id": "e07454b2",
   "metadata": {},
   "outputs": [
    {
     "data": {
      "text/plain": [
       "[((1, 2), {'length': 0.008315940178920017}),\n",
       " ((1, 6), {'length': 0.04377714805026377}),\n",
       " ((1, 315629), {'length': 0.028999427284409712}),\n",
       " ((2, 3), {'length': 0.004976892650912453}),\n",
       " ((3, 4), {'length': 0.004777844775692837}),\n",
       " ((4, 5), {'length': 0.024804662310431966}),\n",
       " ((5, 9), {'length': 0.007868387125612268}),\n",
       " ((6, 7), {'length': 0.007671896014834679}),\n",
       " ((7, 8), {'length': 0.008142100240862477}),\n",
       " ((8, 9), {'length': 0.0060727583958179515}),\n",
       " ((10, 11), {'length': 0.006847669816605806}),\n",
       " ((11, 12), {'length': 0.004800362849796128}),\n",
       " ((12, 13), {'length': 0.038717311749634636}),\n",
       " ((13, 14), {'length': 0.026712922976532567}),\n",
       " ((14, 15), {'length': 0.005352366981611951}),\n",
       " ((15, 16), {'length': 0.046033138070990604}),\n",
       " ((16, 17), {'length': 0.024777415915301908}),\n",
       " ((17, 18), {'length': 0.005876421817823748}),\n",
       " ((18, 24912), {'length': 0.0054645614742736505}),\n",
       " ((19, 20), {'length': 0.008546882134737263})]"
      ]
     },
     "execution_count": 11,
     "metadata": {},
     "output_type": "execute_result"
    }
   ],
   "source": [
    "list(roads.edges.items())[:20]  # len in km"
   ]
  },
  {
   "cell_type": "markdown",
   "id": "dfc7bfba",
   "metadata": {},
   "source": [
    "# Adding attractions to graphs"
   ]
  },
  {
   "cell_type": "code",
   "execution_count": 12,
   "id": "bb2c6df6",
   "metadata": {},
   "outputs": [],
   "source": [
    "from src.algorithm.join import join_attractions"
   ]
  },
  {
   "cell_type": "markdown",
   "id": "f0d60c82",
   "metadata": {},
   "source": [
    "## Merging roads and attractions"
   ]
  },
  {
   "cell_type": "code",
   "execution_count": 13,
   "id": "eea1b1ad",
   "metadata": {},
   "outputs": [],
   "source": [
    "roads_w_attractions = join_attractions(roads, attractions)"
   ]
  },
  {
   "cell_type": "code",
   "execution_count": 14,
   "id": "e96a7833",
   "metadata": {},
   "outputs": [
    {
     "data": {
      "text/plain": [
       "[(363568, {'pos': (17.005575, 51.1285499), 'name': None, 'id': 1}),\n",
       " (363569,\n",
       "  {'pos': (17.0228408, 51.1107048), 'name': 'Państwo Krasnalscy', 'id': 2}),\n",
       " (363570, {'pos': (17.0304809, 51.1111876), 'name': 'Śpioch', 'id': 3})]"
      ]
     },
     "execution_count": 14,
     "metadata": {},
     "output_type": "execute_result"
    }
   ],
   "source": [
    "list(roads_w_attractions.nodes.items())[-3:]"
   ]
  },
  {
   "cell_type": "code",
   "execution_count": 15,
   "id": "a2e33290",
   "metadata": {},
   "outputs": [
    {
     "data": {
      "text/plain": [
       "294396"
      ]
     },
     "execution_count": 15,
     "metadata": {},
     "output_type": "execute_result"
    }
   ],
   "source": [
    "next(roads_w_attractions.neighbors(363568))"
   ]
  },
  {
   "cell_type": "code",
   "execution_count": 16,
   "id": "9837dd38",
   "metadata": {},
   "outputs": [
    {
     "data": {
      "text/plain": [
       "(294397, {'pos': (17.0054756, 51.1287948)})"
      ]
     },
     "execution_count": 16,
     "metadata": {},
     "output_type": "execute_result"
    }
   ],
   "source": [
    "list(roads_w_attractions.nodes.items())[294396]"
   ]
  },
  {
   "cell_type": "code",
   "execution_count": 17,
   "id": "27b4bdb0",
   "metadata": {},
   "outputs": [
    {
     "data": {
      "text/plain": [
       "(363568, 294396)"
      ]
     },
     "execution_count": 17,
     "metadata": {},
     "output_type": "execute_result"
    }
   ],
   "source": [
    "list(roads_w_attractions.edges(363568))[0]"
   ]
  },
  {
   "cell_type": "code",
   "execution_count": 18,
   "id": "0f479714",
   "metadata": {},
   "outputs": [
    {
     "data": {
      "text/plain": [
       "[((294396, 363568), {'length': 0.00541478680484889})]"
      ]
     },
     "execution_count": 18,
     "metadata": {},
     "output_type": "execute_result"
    }
   ],
   "source": [
    "list(filter(lambda x: x[0][1] == 363568, list(roads_w_attractions.edges.items())))"
   ]
  },
  {
   "cell_type": "code",
   "execution_count": 19,
   "id": "379f725d",
   "metadata": {},
   "outputs": [
    {
     "data": {
      "text/plain": [
       "((363566, 363567), {'length': 0.021501075711392693})"
      ]
     },
     "execution_count": 19,
     "metadata": {},
     "output_type": "execute_result"
    }
   ],
   "source": [
    "list(roads_w_attractions.edges.items())[-1]"
   ]
  },
  {
   "cell_type": "markdown",
   "id": "047ba722",
   "metadata": {},
   "source": [
    "## Merging bikelanes and attractions"
   ]
  },
  {
   "cell_type": "code",
   "execution_count": 20,
   "id": "f052c846",
   "metadata": {},
   "outputs": [],
   "source": [
    "bikelanes_w_attractions = join_attractions(sciezki, attractions)"
   ]
  },
  {
   "cell_type": "code",
   "execution_count": 21,
   "id": "f7a0c0f8",
   "metadata": {},
   "outputs": [
    {
     "data": {
      "text/plain": [
       "(89812, {'pos': (17.0304809, 51.1111876), 'name': 'Śpioch', 'id': 3})"
      ]
     },
     "execution_count": 21,
     "metadata": {},
     "output_type": "execute_result"
    }
   ],
   "source": [
    "list(bikelanes_w_attractions.nodes.items())[-1]"
   ]
  },
  {
   "cell_type": "code",
   "execution_count": 22,
   "id": "d2093987",
   "metadata": {},
   "outputs": [
    {
     "data": {
      "text/plain": [
       "81916"
      ]
     },
     "execution_count": 22,
     "metadata": {},
     "output_type": "execute_result"
    }
   ],
   "source": [
    "next(bikelanes_w_attractions.neighbors(89810))"
   ]
  },
  {
   "cell_type": "code",
   "execution_count": 23,
   "id": "6333cbc2",
   "metadata": {},
   "outputs": [
    {
     "data": {
      "text/plain": [
       "(81917, {'pos': (17.006885917236104, 51.129531493821176)})"
      ]
     },
     "execution_count": 23,
     "metadata": {},
     "output_type": "execute_result"
    }
   ],
   "source": [
    "list(bikelanes_w_attractions.nodes.items())[81916]"
   ]
  },
  {
   "cell_type": "code",
   "execution_count": 24,
   "id": "bcefb0f7",
   "metadata": {},
   "outputs": [
    {
     "data": {
      "text/plain": [
       "[(89810, 81916)]"
      ]
     },
     "execution_count": 24,
     "metadata": {},
     "output_type": "execute_result"
    }
   ],
   "source": [
    "list(bikelanes_w_attractions.edges(89810))"
   ]
  },
  {
   "cell_type": "code",
   "execution_count": 25,
   "id": "c8f68975",
   "metadata": {},
   "outputs": [
    {
     "data": {
      "text/plain": [
       "[((81916, 89810), {'length': 0.14236113394265124})]"
      ]
     },
     "execution_count": 25,
     "metadata": {},
     "output_type": "execute_result"
    }
   ],
   "source": [
    "list(filter(lambda x: x[0][1] == 89810, list(bikelanes_w_attractions.edges.items())))"
   ]
  },
  {
   "cell_type": "code",
   "execution_count": 26,
   "id": "f2b3c583",
   "metadata": {},
   "outputs": [
    {
     "data": {
      "text/plain": [
       "((89808, 89809),\n",
       " {'length': 0.0064137366396440475,\n",
       "  'type': 'pas ruchu dla rowerów',\n",
       "  'direction': 1.0})"
      ]
     },
     "execution_count": 26,
     "metadata": {},
     "output_type": "execute_result"
    }
   ],
   "source": [
    "list(bikelanes_w_attractions.edges.items())[-1]"
   ]
  },
  {
   "cell_type": "markdown",
   "id": "0633074d",
   "metadata": {},
   "source": [
    "# A-Star test"
   ]
  },
  {
   "cell_type": "code",
   "execution_count": 27,
   "id": "3586de73",
   "metadata": {},
   "outputs": [],
   "source": [
    "from src.algorithm.search_path import find_path"
   ]
  },
  {
   "cell_type": "code",
   "execution_count": 28,
   "id": "fa7d0d91",
   "metadata": {},
   "outputs": [],
   "source": [
    "start_node = roads_w_attractions.nodes[363568]\n",
    "end_node = roads_w_attractions.nodes[363570]"
   ]
  },
  {
   "cell_type": "code",
   "execution_count": 29,
   "id": "eceacf58",
   "metadata": {},
   "outputs": [
    {
     "data": {
      "text/plain": [
       "{'pos': (17.005575, 51.1285499), 'name': None, 'id': 1}"
      ]
     },
     "execution_count": 29,
     "metadata": {},
     "output_type": "execute_result"
    }
   ],
   "source": [
    "start_node"
   ]
  },
  {
   "cell_type": "code",
   "execution_count": 35,
   "id": "0e80731a",
   "metadata": {},
   "outputs": [
    {
     "data": {
      "text/plain": [
       "{'pos': (17.0304809, 51.1111876), 'name': 'Śpioch', 'id': 3}"
      ]
     },
     "execution_count": 35,
     "metadata": {},
     "output_type": "execute_result"
    }
   ],
   "source": [
    "end_node"
   ]
  },
  {
   "cell_type": "code",
   "execution_count": 30,
   "id": "0e755f44",
   "metadata": {},
   "outputs": [],
   "source": [
    "path = find_path(roads_w_attractions, 363568, 363570)"
   ]
  },
  {
   "cell_type": "code",
   "execution_count": 33,
   "id": "8e245a5b",
   "metadata": {},
   "outputs": [],
   "source": [
    "from networkx.classes.function import path_weight"
   ]
  },
  {
   "cell_type": "code",
   "execution_count": 34,
   "id": "06834ccb",
   "metadata": {},
   "outputs": [
    {
     "data": {
      "text/plain": [
       "3.2640046980647988"
      ]
     },
     "execution_count": 34,
     "metadata": {},
     "output_type": "execute_result"
    }
   ],
   "source": [
    "path_weight(roads_w_attractions, path, weight=\"length\")"
   ]
  },
  {
   "cell_type": "code",
   "execution_count": 32,
   "id": "569f9da2",
   "metadata": {},
   "outputs": [
    {
     "data": {
      "text/plain": [
       "[363568,\n",
       " 294396,\n",
       " 294395,\n",
       " 294397,\n",
       " 294399,\n",
       " 294398,\n",
       " 247656,\n",
       " 247657,\n",
       " 247658,\n",
       " 247659,\n",
       " 247660,\n",
       " 247661,\n",
       " 247662,\n",
       " 247663,\n",
       " 13035,\n",
       " 13036,\n",
       " 13048,\n",
       " 13049,\n",
       " 13047,\n",
       " 13046,\n",
       " 13045,\n",
       " 13044,\n",
       " 13043,\n",
       " 13042,\n",
       " 13041,\n",
       " 13040,\n",
       " 13039,\n",
       " 13038,\n",
       " 13037,\n",
       " 12606,\n",
       " 234614,\n",
       " 234613,\n",
       " 234612,\n",
       " 234611,\n",
       " 234610,\n",
       " 234609,\n",
       " 234608,\n",
       " 234607,\n",
       " 234606,\n",
       " 234605,\n",
       " 234604,\n",
       " 234603,\n",
       " 234602,\n",
       " 33320,\n",
       " 33319,\n",
       " 33318,\n",
       " 33317,\n",
       " 33316,\n",
       " 341491,\n",
       " 13093,\n",
       " 341490,\n",
       " 341489,\n",
       " 341488,\n",
       " 341487,\n",
       " 341486,\n",
       " 341485,\n",
       " 341484,\n",
       " 341483,\n",
       " 325892,\n",
       " 325891,\n",
       " 325890,\n",
       " 325889,\n",
       " 325888,\n",
       " 325887,\n",
       " 325886,\n",
       " 325885,\n",
       " 325884,\n",
       " 325883,\n",
       " 325882,\n",
       " 325881,\n",
       " 325880,\n",
       " 244796,\n",
       " 325879,\n",
       " 191357,\n",
       " 191356,\n",
       " 191355,\n",
       " 191354,\n",
       " 191346,\n",
       " 191345,\n",
       " 12559,\n",
       " 191358,\n",
       " 63103,\n",
       " 191347,\n",
       " 8202,\n",
       " 327359,\n",
       " 327358,\n",
       " 327357,\n",
       " 327360,\n",
       " 191353,\n",
       " 191352,\n",
       " 191351,\n",
       " 11108,\n",
       " 191344,\n",
       " 191343,\n",
       " 194906,\n",
       " 194905,\n",
       " 194904,\n",
       " 194903,\n",
       " 194902,\n",
       " 194909,\n",
       " 11889,\n",
       " 194908,\n",
       " 194907,\n",
       " 4968,\n",
       " 4967,\n",
       " 4966,\n",
       " 4965,\n",
       " 52581,\n",
       " 4964,\n",
       " 4950,\n",
       " 4951,\n",
       " 4952,\n",
       " 4953,\n",
       " 4954,\n",
       " 4955,\n",
       " 4956,\n",
       " 4957,\n",
       " 4958,\n",
       " 4959,\n",
       " 4960,\n",
       " 4961,\n",
       " 4962,\n",
       " 4963,\n",
       " 208242,\n",
       " 208243,\n",
       " 208244,\n",
       " 208245,\n",
       " 208246,\n",
       " 208247,\n",
       " 208248,\n",
       " 208249,\n",
       " 168247,\n",
       " 208250,\n",
       " 257984,\n",
       " 2219,\n",
       " 2220,\n",
       " 2221,\n",
       " 2222,\n",
       " 2223,\n",
       " 2224,\n",
       " 2225,\n",
       " 2226,\n",
       " 2227,\n",
       " 2228,\n",
       " 2229,\n",
       " 2230,\n",
       " 2231,\n",
       " 2232,\n",
       " 2233,\n",
       " 2234,\n",
       " 2235,\n",
       " 2236,\n",
       " 2237,\n",
       " 2238,\n",
       " 2239,\n",
       " 187905,\n",
       " 187906,\n",
       " 11781,\n",
       " 257983,\n",
       " 254289,\n",
       " 322518,\n",
       " 268962,\n",
       " 322519,\n",
       " 322520,\n",
       " 322521,\n",
       " 322522,\n",
       " 322523,\n",
       " 322524,\n",
       " 322525,\n",
       " 32876,\n",
       " 322526,\n",
       " 351055,\n",
       " 351056,\n",
       " 341705,\n",
       " 341706,\n",
       " 226299,\n",
       " 341707,\n",
       " 341708,\n",
       " 341709,\n",
       " 341710,\n",
       " 341711,\n",
       " 341712,\n",
       " 187898,\n",
       " 187899,\n",
       " 187900,\n",
       " 187901,\n",
       " 187902,\n",
       " 237644,\n",
       " 224972,\n",
       " 224971,\n",
       " 224970,\n",
       " 224969,\n",
       " 59778,\n",
       " 59777,\n",
       " 239016,\n",
       " 239015,\n",
       " 239014,\n",
       " 238993,\n",
       " 238994,\n",
       " 323031,\n",
       " 323030,\n",
       " 323029,\n",
       " 320935,\n",
       " 162251,\n",
       " 162252,\n",
       " 162253,\n",
       " 162254,\n",
       " 162255,\n",
       " 162256,\n",
       " 196047,\n",
       " 178973,\n",
       " 196049,\n",
       " 196048,\n",
       " 2109,\n",
       " 164680,\n",
       " 164679,\n",
       " 164748,\n",
       " 164749,\n",
       " 164750,\n",
       " 178963,\n",
       " 63479,\n",
       " 63478,\n",
       " 63477,\n",
       " 63476,\n",
       " 63475,\n",
       " 33330,\n",
       " 33329,\n",
       " 33328,\n",
       " 33327,\n",
       " 20121,\n",
       " 33326,\n",
       " 33325,\n",
       " 33324,\n",
       " 33323,\n",
       " 33322,\n",
       " 33321,\n",
       " 302741,\n",
       " 178558,\n",
       " 302740,\n",
       " 7345,\n",
       " 7352,\n",
       " 7353,\n",
       " 164669,\n",
       " 164670,\n",
       " 164671,\n",
       " 164672,\n",
       " 164673,\n",
       " 164678,\n",
       " 164677,\n",
       " 175487,\n",
       " 363570]"
      ]
     },
     "execution_count": 32,
     "metadata": {},
     "output_type": "execute_result"
    }
   ],
   "source": [
    "path"
   ]
  },
  {
   "cell_type": "code",
   "execution_count": 36,
   "id": "6d05b9ba",
   "metadata": {},
   "outputs": [
    {
     "data": {
      "text/plain": [
       "[3, 4]"
      ]
     },
     "execution_count": 36,
     "metadata": {},
     "output_type": "execute_result"
    }
   ],
   "source": [
    "tttt = [0, 1, 2, 3, 4]\n",
    "tttt[-2:]"
   ]
  }
 ],
 "metadata": {
  "kernelspec": {
   "display_name": "Python 3 (ipykernel)",
   "language": "python",
   "name": "python3"
  },
  "language_info": {
   "codemirror_mode": {
    "name": "ipython",
    "version": 3
   },
   "file_extension": ".py",
   "mimetype": "text/x-python",
   "name": "python",
   "nbconvert_exporter": "python",
   "pygments_lexer": "ipython3",
   "version": "3.9.2"
  }
 },
 "nbformat": 4,
 "nbformat_minor": 5
}

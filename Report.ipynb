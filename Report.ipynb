{
 "cells": [
  {
   "cell_type": "code",
   "execution_count": 18,
   "id": "atlantic-stage",
   "metadata": {},
   "outputs": [],
   "source": [
    "# Load prepared data\n",
    "from src.graph.graph_generator import GraphGenerator\n",
    "\n",
    "graph_generator = GraphGenerator()\n",
    "\n",
    "roads_graph = graph_generator.read_graph(\"data/roads_w_attractions.pickle\")\n",
    "bike_paths_graph = graph_generator.read_graph(\"data/bike_paths_w_attractions.pickle\")\n",
    "attractions_graph = graph_generator.read_graph(\"data/attractions.pickle\")"
   ]
  },
  {
   "cell_type": "code",
   "execution_count": 19,
   "id": "30189341",
   "metadata": {},
   "outputs": [],
   "source": [
    "# Choose quality cycle paths\n",
    "from src.graph.bike_paths import FULL_BIKE_PATH\n",
    "\n",
    "whitelist = FULL_BIKE_PATH"
   ]
  },
  {
   "cell_type": "code",
   "execution_count": 20,
   "id": "d61c5056",
   "metadata": {},
   "outputs": [
    {
     "name": "stdout",
     "output_type": "stream",
     "text": [
      "- pas ruchu dla rowerów\n",
      "- strefa ruchu uspokojonego 20 i 30 km/h\n",
      "- kontraruch\n",
      "- kontrapas\n",
      "- droga dla rowerów\n",
      "- trasa na wałach\n",
      "- trasa przez park\n",
      "- pas BUS + ROWER\n",
      "- droga dla pieszych i rowerów\n"
     ]
    }
   ],
   "source": [
    "print('\\n'.join('- {}'.format(j) for i, j in enumerate(whitelist)))"
   ]
  },
  {
   "cell_type": "code",
   "execution_count": 14,
   "id": "c7f5bb0d",
   "metadata": {
    "scrolled": true
   },
   "outputs": [],
   "source": [
    "# Find edges which are not on the whitelist\n",
    "edges_to_remove = []\n",
    "for edge, attrib in bike_paths_graph.edges.items():\n",
    "    if not (attrib.get(\"type\") in whitelist or attrib.get(\"type\") is None):\n",
    "        edges_to_remove.append((edge[0], edge[1]))\n",
    "\n",
    "# Remove previously selected edges. In case one of the nodes has no neighbors, delete it\n",
    "for e1, e2 in edges_to_remove:\n",
    "    bike_paths_graph.remove_edge(e1, e2)\n",
    "    \n",
    "    if not any(bike_paths_graph.neighbors(e1)):\n",
    "        bike_paths_graph.remove_node(e1)\n",
    "    if not any(bike_paths_graph.neighbors(e2)):\n",
    "        bike_paths_graph.remove_node(e2)"
   ]
  },
  {
   "cell_type": "code",
   "execution_count": 21,
   "id": "68a466d3",
   "metadata": {},
   "outputs": [],
   "source": [
    "from itertools import combinations\n",
    "from src.utils import haversine\n",
    "\n",
    "# Find different attraction pairs which are further than 1 km\n",
    "attraction_pairs = []\n",
    "for a1, a2 in combinations(attractions_graph.nodes.items(), 2):\n",
    "    if haversine(*a1[1][\"pos\"], *a2[1][\"pos\"]) > 1.0:\n",
    "        attraction_pairs.append((a1, a2))"
   ]
  },
  {
   "cell_type": "code",
   "execution_count": 22,
   "id": "3254bf27",
   "metadata": {},
   "outputs": [
    {
     "name": "stdout",
     "output_type": "stream",
     "text": [
      "0% (20/109428)\n"
     ]
    },
    {
     "ename": "KeyboardInterrupt",
     "evalue": "",
     "output_type": "error",
     "traceback": [
      "\u001b[0;31m---------------------------------------------------------------------------\u001b[0m",
      "\u001b[0;31mKeyboardInterrupt\u001b[0m                         Traceback (most recent call last)",
      "Input \u001b[0;32mIn [22]\u001b[0m, in \u001b[0;36m<module>\u001b[0;34m\u001b[0m\n\u001b[1;32m     13\u001b[0m \u001b[38;5;28;01mexcept\u001b[39;00m:\n\u001b[1;32m     14\u001b[0m     bike_len \u001b[38;5;241m=\u001b[39m \u001b[38;5;28mfloat\u001b[39m(\u001b[38;5;124m'\u001b[39m\u001b[38;5;124minf\u001b[39m\u001b[38;5;124m'\u001b[39m)\n\u001b[0;32m---> 16\u001b[0m road_start \u001b[38;5;241m=\u001b[39m \u001b[38;5;28mlist\u001b[39m(\u001b[38;5;28mfilter\u001b[39m(\u001b[38;5;28;01mlambda\u001b[39;00m x: x[\u001b[38;5;241m1\u001b[39m]\u001b[38;5;241m.\u001b[39mget(\u001b[38;5;124m\"\u001b[39m\u001b[38;5;124mid\u001b[39m\u001b[38;5;124m\"\u001b[39m) \u001b[38;5;241m==\u001b[39m a1[\u001b[38;5;241m1\u001b[39m][\u001b[38;5;124m\"\u001b[39m\u001b[38;5;124mid\u001b[39m\u001b[38;5;124m\"\u001b[39m], \u001b[38;5;28;43mlist\u001b[39;49m\u001b[43m(\u001b[49m\u001b[43mroads_graph\u001b[49m\u001b[38;5;241;43m.\u001b[39;49m\u001b[43mnodes\u001b[49m\u001b[38;5;241;43m.\u001b[39;49m\u001b[43mitems\u001b[49m\u001b[43m(\u001b[49m\u001b[43m)\u001b[49m\u001b[43m)\u001b[49m))[\u001b[38;5;241m0\u001b[39m]\n\u001b[1;32m     17\u001b[0m road_end \u001b[38;5;241m=\u001b[39m \u001b[38;5;28mlist\u001b[39m(\u001b[38;5;28mfilter\u001b[39m(\u001b[38;5;28;01mlambda\u001b[39;00m x: x[\u001b[38;5;241m1\u001b[39m]\u001b[38;5;241m.\u001b[39mget(\u001b[38;5;124m\"\u001b[39m\u001b[38;5;124mid\u001b[39m\u001b[38;5;124m\"\u001b[39m) \u001b[38;5;241m==\u001b[39m a2[\u001b[38;5;241m1\u001b[39m][\u001b[38;5;124m\"\u001b[39m\u001b[38;5;124mid\u001b[39m\u001b[38;5;124m\"\u001b[39m], \u001b[38;5;28mlist\u001b[39m(roads_graph\u001b[38;5;241m.\u001b[39mnodes\u001b[38;5;241m.\u001b[39mitems())))[\u001b[38;5;241m0\u001b[39m]\n\u001b[1;32m     19\u001b[0m \u001b[38;5;28;01mtry\u001b[39;00m:\n",
      "File \u001b[0;32m/usr/lib/python3.9/_collections_abc.py:851\u001b[0m, in \u001b[0;36mItemsView.__iter__\u001b[0;34m(self)\u001b[0m\n\u001b[1;32m    849\u001b[0m \u001b[38;5;28;01mdef\u001b[39;00m \u001b[38;5;21m__iter__\u001b[39m(\u001b[38;5;28mself\u001b[39m):\n\u001b[1;32m    850\u001b[0m     \u001b[38;5;28;01mfor\u001b[39;00m key \u001b[38;5;129;01min\u001b[39;00m \u001b[38;5;28mself\u001b[39m\u001b[38;5;241m.\u001b[39m_mapping:\n\u001b[0;32m--> 851\u001b[0m         \u001b[38;5;28;01myield\u001b[39;00m (key, \u001b[38;5;28mself\u001b[39m\u001b[38;5;241m.\u001b[39m_mapping[key])\n",
      "\u001b[0;31mKeyboardInterrupt\u001b[0m: "
     ]
    }
   ],
   "source": [
    "from networkx.classes.function import path_weight\n",
    "from IPython.display import clear_output\n",
    "from src.algorithm.search_path import find_path\n",
    "\n",
    "summary = []\n",
    "for i, (a1, a2) in enumerate(attraction_pairs):\n",
    "    bike_start = list(filter(lambda x: x[1].get(\"id\") == a1[1][\"id\"], list(bike_paths_graph.nodes.items())))[0]\n",
    "    bike_end = list(filter(lambda x: x[1].get(\"id\") == a2[1][\"id\"], list(bike_paths_graph.nodes.items())))[0]\n",
    "\n",
    "    try:\n",
    "        bike_path = find_path(bike_paths_graph, bike_start[0], bike_end[0])\n",
    "        bike_len = path_weight(bike_paths_graph, bike_path, weight=\"length\")\n",
    "    except:\n",
    "        bike_len = float('inf')\n",
    "\n",
    "    road_start = list(filter(lambda x: x[1].get(\"id\") == a1[1][\"id\"], list(roads_graph.nodes.items())))[0]\n",
    "    road_end = list(filter(lambda x: x[1].get(\"id\") == a2[1][\"id\"], list(roads_graph.nodes.items())))[0]\n",
    "\n",
    "    try:\n",
    "        road_path = find_path(roads_graph, road_start[0], road_end[0])\n",
    "        road_len = path_weight(roads_graph, road_path, weight=\"length\")\n",
    "    except:\n",
    "        road_len = float('inf')\n",
    "    \n",
    "    summary.append(f\"road: {'{:.2f}'.format(road_len)}\\tbike: {'{:.2f}'.format(bike_len)}\\tratio: {'{:.2f}'.format(road_len/bike_len)}\")\n",
    "    \n",
    "    clear_output(wait=True)\n",
    "    print(f\"{int(i/len(attraction_pairs))}% ({i}/{len(attraction_pairs)})\")"
   ]
  },
  {
   "cell_type": "code",
   "execution_count": 23,
   "id": "362c0a78",
   "metadata": {},
   "outputs": [
    {
     "name": "stdout",
     "output_type": "stream",
     "text": [
      "0\troad: 2.84\tbike: 3.57\tratio: 0.80\n",
      "1\troad: 3.26\tbike: 4.06\tratio: 0.80\n",
      "2\troad: 3.15\tbike: 4.17\tratio: 0.76\n",
      "3\troad: 3.43\tbike: 4.38\tratio: 0.78\n",
      "4\troad: 3.38\tbike: 4.29\tratio: 0.79\n",
      "5\troad: 3.36\tbike: 4.35\tratio: 0.77\n",
      "6\troad: 3.18\tbike: 4.01\tratio: 0.79\n",
      "7\troad: 3.45\tbike: 4.16\tratio: 0.83\n",
      "8\troad: 4.87\tbike: 5.84\tratio: 0.83\n",
      "9\troad: 3.55\tbike: 4.49\tratio: 0.79\n",
      "10\troad: 3.19\tbike: 4.10\tratio: 0.78\n",
      "11\troad: 3.26\tbike: 4.10\tratio: 0.79\n",
      "12\troad: 3.97\tbike: 4.75\tratio: 0.83\n",
      "13\troad: 3.59\tbike: 4.51\tratio: 0.80\n",
      "14\troad: 5.21\tbike: 6.06\tratio: 0.86\n",
      "15\troad: 5.60\tbike: 6.82\tratio: 0.82\n",
      "16\troad: 3.63\tbike: 3.99\tratio: 0.91\n",
      "17\troad: 3.12\tbike: 3.86\tratio: 0.81\n",
      "18\troad: 5.49\tbike: 6.65\tratio: 0.83\n",
      "19\troad: 7.59\tbike: 8.48\tratio: 0.89\n",
      "20\troad: 7.32\tbike: 8.43\tratio: 0.87\n"
     ]
    }
   ],
   "source": [
    "print('\\n'.join('{}\\t{}'.format(*i) for i in enumerate(summary)))"
   ]
  }
 ],
 "metadata": {
  "kernelspec": {
   "display_name": "Python 3 (ipykernel)",
   "language": "python",
   "name": "python3"
  },
  "language_info": {
   "codemirror_mode": {
    "name": "ipython",
    "version": 3
   },
   "file_extension": ".py",
   "mimetype": "text/x-python",
   "name": "python",
   "nbconvert_exporter": "python",
   "pygments_lexer": "ipython3",
   "version": "3.9.2"
  }
 },
 "nbformat": 4,
 "nbformat_minor": 5
}

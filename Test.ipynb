{
 "cells": [
  {
   "cell_type": "code",
   "execution_count": 1,
   "id": "163dc56b",
   "metadata": {},
   "outputs": [],
   "source": [
    "import networkx as nx\n",
    "\n",
    "from src.graph.graph_generator import GraphGenerator"
   ]
  },
  {
   "cell_type": "code",
   "execution_count": 2,
   "id": "9b1af26a",
   "metadata": {},
   "outputs": [],
   "source": [
    "roads_w_attractions = GraphGenerator().read_graph(\"data/roads_w_attractions.pickle\")"
   ]
  },
  {
   "cell_type": "code",
   "execution_count": 3,
   "id": "467f7c9c",
   "metadata": {},
   "outputs": [
    {
     "data": {
      "text/plain": [
       "[(364170,\n",
       "  {'pos': (17.0362398, 51.1018548),\n",
       "   'name': 'Walcząca Armio Wyklęta',\n",
       "   'id': 603}),\n",
       " (364171, {'pos': (17.033116, 51.107426), 'name': 'Glamour', 'id': 604}),\n",
       " (364172, {'pos': (16.992041, 51.062922), 'name': 'Trejdek', 'id': 605}),\n",
       " (364173,\n",
       "  {'pos': (17.0323768, 51.1070914),\n",
       "   'name': 'Typograficzny Mural Ceramiczny',\n",
       "   'id': 606}),\n",
       " (364174, {'pos': (17.0293286, 51.1107575), 'name': 'Galeriusz', 'id': 607}),\n",
       " (364175, {'pos': (17.0283485, 51.1091666), 'name': None, 'id': 608}),\n",
       " (364176, {'pos': (17.0370205, 51.1058958), 'name': None, 'id': 609}),\n",
       " (364177, {'pos': (17.0290068, 51.1071423), 'name': None, 'id': 610}),\n",
       " (364178, {'pos': (17.028926, 51.1070255), 'name': None, 'id': 611}),\n",
       " (364179, {'pos': (17.0288475, 51.1069102), 'name': None, 'id': 612}),\n",
       " (364180, {'pos': (17.0286005, 51.1069095), 'name': None, 'id': 613}),\n",
       " (364181, {'pos': (17.0284515, 51.1069492), 'name': None, 'id': 614}),\n",
       " (364182, {'pos': (17.0288567, 51.107249), 'name': None, 'id': 615}),\n",
       " (364183, {'pos': (17.0286589, 51.1073009), 'name': None, 'id': 616}),\n",
       " (364184, {'pos': (17.0287712, 51.1072305), 'name': None, 'id': 617}),\n",
       " (364185, {'pos': (17.0286984, 51.1072497), 'name': None, 'id': 618}),\n",
       " (364186, {'pos': (17.0286778, 51.1070365), 'name': None, 'id': 619}),\n",
       " (364187, {'pos': (17.0287417, 51.1071311), 'name': None, 'id': 620}),\n",
       " (364188, {'pos': (17.0285389, 51.1070734), 'name': None, 'id': 621}),\n",
       " (364189, {'pos': (17.0286028, 51.107168), 'name': None, 'id': 622})]"
      ]
     },
     "execution_count": 3,
     "metadata": {},
     "output_type": "execute_result"
    }
   ],
   "source": [
    "list(roads_w_attractions.nodes.items())[-20:] "
   ]
  },
  {
   "cell_type": "code",
   "execution_count": 4,
   "id": "c4da60bd",
   "metadata": {},
   "outputs": [
    {
     "data": {
      "text/plain": [
       "[((1, 2), {'length': 0.008315940178920017}),\n",
       " ((1, 6), {'length': 0.04377714805026377}),\n",
       " ((1, 315629), {'length': 0.028999427284409712}),\n",
       " ((2, 3), {'length': 0.004976892650912453}),\n",
       " ((3, 4), {'length': 0.004777844775692837}),\n",
       " ((4, 5), {'length': 0.024804662310431966}),\n",
       " ((5, 9), {'length': 0.007868387125612268}),\n",
       " ((6, 7), {'length': 0.007671896014834679}),\n",
       " ((7, 8), {'length': 0.008142100240862477}),\n",
       " ((8, 9), {'length': 0.0060727583958179515}),\n",
       " ((10, 11), {'length': 0.006847669816605806}),\n",
       " ((11, 12), {'length': 0.004800362849796128}),\n",
       " ((12, 13), {'length': 0.038717311749634636}),\n",
       " ((13, 14), {'length': 0.026712922976532567}),\n",
       " ((14, 15), {'length': 0.005352366981611951}),\n",
       " ((15, 16), {'length': 0.046033138070990604}),\n",
       " ((16, 17), {'length': 0.024777415915301908}),\n",
       " ((17, 18), {'length': 0.005876421817823748}),\n",
       " ((18, 24912), {'length': 0.0054645614742736505}),\n",
       " ((19, 20), {'length': 0.008546882134737263})]"
      ]
     },
     "execution_count": 4,
     "metadata": {},
     "output_type": "execute_result"
    }
   ],
   "source": [
    "list(roads_w_attractions.edges.items())[:20]"
   ]
  },
  {
   "cell_type": "code",
   "execution_count": 47,
   "id": "f61ba960",
   "metadata": {},
   "outputs": [],
   "source": [
    "bikepaths_w_attractions = GraphGenerator().read_graph(\"data/bikepaths_w_attractions.pickle\")"
   ]
  },
  {
   "cell_type": "code",
   "execution_count": 6,
   "id": "3055c555",
   "metadata": {},
   "outputs": [
    {
     "data": {
      "text/plain": [
       "[(90412,\n",
       "  {'pos': (17.0362398, 51.1018548),\n",
       "   'name': 'Walcząca Armio Wyklęta',\n",
       "   'id': 603}),\n",
       " (90413, {'pos': (17.033116, 51.107426), 'name': 'Glamour', 'id': 604}),\n",
       " (90414, {'pos': (16.992041, 51.062922), 'name': 'Trejdek', 'id': 605}),\n",
       " (90415,\n",
       "  {'pos': (17.0323768, 51.1070914),\n",
       "   'name': 'Typograficzny Mural Ceramiczny',\n",
       "   'id': 606}),\n",
       " (90416, {'pos': (17.0293286, 51.1107575), 'name': 'Galeriusz', 'id': 607}),\n",
       " (90417, {'pos': (17.0283485, 51.1091666), 'name': None, 'id': 608}),\n",
       " (90418, {'pos': (17.0370205, 51.1058958), 'name': None, 'id': 609}),\n",
       " (90419, {'pos': (17.0290068, 51.1071423), 'name': None, 'id': 610}),\n",
       " (90420, {'pos': (17.028926, 51.1070255), 'name': None, 'id': 611}),\n",
       " (90421, {'pos': (17.0288475, 51.1069102), 'name': None, 'id': 612}),\n",
       " (90422, {'pos': (17.0286005, 51.1069095), 'name': None, 'id': 613}),\n",
       " (90423, {'pos': (17.0284515, 51.1069492), 'name': None, 'id': 614}),\n",
       " (90424, {'pos': (17.0288567, 51.107249), 'name': None, 'id': 615}),\n",
       " (90425, {'pos': (17.0286589, 51.1073009), 'name': None, 'id': 616}),\n",
       " (90426, {'pos': (17.0287712, 51.1072305), 'name': None, 'id': 617}),\n",
       " (90427, {'pos': (17.0286984, 51.1072497), 'name': None, 'id': 618}),\n",
       " (90428, {'pos': (17.0286778, 51.1070365), 'name': None, 'id': 619}),\n",
       " (90429, {'pos': (17.0287417, 51.1071311), 'name': None, 'id': 620}),\n",
       " (90430, {'pos': (17.0285389, 51.1070734), 'name': None, 'id': 621}),\n",
       " (90431, {'pos': (17.0286028, 51.107168), 'name': None, 'id': 622})]"
      ]
     },
     "execution_count": 6,
     "metadata": {},
     "output_type": "execute_result"
    }
   ],
   "source": [
    "list(bikepaths_w_attractions.nodes.items())[-20:]"
   ]
  },
  {
   "cell_type": "code",
   "execution_count": 7,
   "id": "8901323b",
   "metadata": {},
   "outputs": [
    {
     "data": {
      "text/plain": [
       "[((1, 2),\n",
       "  {'length': 0.0034243079425882437,\n",
       "   'type': 'droga dla pieszych i rowerów',\n",
       "   'direction': 2.0}),\n",
       " ((1, 19351),\n",
       "  {'length': 0.00851833757835794,\n",
       "   'type': 'droga dla pieszych i rowerów',\n",
       "   'direction': 2.0}),\n",
       " ((1, 52646),\n",
       "  {'length': 0.020012760521502394,\n",
       "   'type': 'droga dla rowerów',\n",
       "   'direction': 2.0}),\n",
       " ((1, 81736),\n",
       "  {'length': 0.01817516505124869,\n",
       "   'type': 'strefa ruchu uspokojonego 20 i 30 km/h',\n",
       "   'direction': 2.0}),\n",
       " ((2, 66477),\n",
       "  {'length': 0.046424317475681355,\n",
       "   'type': 'droga dla pieszych i rowerów',\n",
       "   'direction': 2.0}),\n",
       " ((3, 4),\n",
       "  {'length': 0.010433257293806257,\n",
       "   'type': 'droga dla pieszych i rowerów',\n",
       "   'direction': 2.0}),\n",
       " ((3, 1658),\n",
       "  {'length': 0.019274480834881185,\n",
       "   'type': 'droga dla pieszych i rowerów',\n",
       "   'direction': 2.0}),\n",
       " ((3, 1664),\n",
       "  {'length': 0.036166095087968884,\n",
       "   'type': 'droga dla pieszych i rowerów',\n",
       "   'direction': 2.0}),\n",
       " ((3, 4063),\n",
       "  {'length': 0.0018347509996322056,\n",
       "   'type': 'trasa przez park',\n",
       "   'direction': 2.0}),\n",
       " ((4, 5),\n",
       "  {'length': 0.009784935819193794,\n",
       "   'type': 'droga dla pieszych i rowerów',\n",
       "   'direction': 2.0}),\n",
       " ((5, 6),\n",
       "  {'length': 0.0088076223337752,\n",
       "   'type': 'droga dla pieszych i rowerów',\n",
       "   'direction': 2.0}),\n",
       " ((6, 7),\n",
       "  {'length': 0.014888048730273887,\n",
       "   'type': 'droga dla pieszych i rowerów',\n",
       "   'direction': 2.0}),\n",
       " ((7, 66284),\n",
       "  {'length': 0.004495659255192528,\n",
       "   'type': 'droga dla pieszych i rowerów',\n",
       "   'direction': 2.0}),\n",
       " ((7, 67949),\n",
       "  {'length': 0.0029567769526371275,\n",
       "   'type': 'droga dla pieszych i rowerów',\n",
       "   'direction': 2.0}),\n",
       " ((8, 9),\n",
       "  {'length': 0.010052345029332783,\n",
       "   'type': 'droga dla rowerów',\n",
       "   'direction': 2.0}),\n",
       " ((8, 36350),\n",
       "  {'length': 0.009060521723714398,\n",
       "   'type': 'droga dla rowerów',\n",
       "   'direction': 2.0}),\n",
       " ((8, 68527),\n",
       "  {'length': 0.03229416170583307,\n",
       "   'type': 'droga dla pieszych i rowerów',\n",
       "   'direction': 2.0}),\n",
       " ((8, 90209), {'length': 0.007025745095075716}),\n",
       " ((9, 10),\n",
       "  {'length': 0.0087163991653925,\n",
       "   'type': 'droga dla rowerów',\n",
       "   'direction': 2.0}),\n",
       " ((9, 90210), {'length': 0.006888211774672538})]"
      ]
     },
     "execution_count": 7,
     "metadata": {},
     "output_type": "execute_result"
    }
   ],
   "source": [
    "list(bikepaths_w_attractions.edges.items())[:20]"
   ]
  },
  {
   "cell_type": "code",
   "execution_count": 8,
   "id": "bfca9130",
   "metadata": {},
   "outputs": [],
   "source": [
    "new_bikepaths = bikepaths_w_attractions.copy()"
   ]
  },
  {
   "cell_type": "code",
   "execution_count": 9,
   "id": "d3fbf9e4",
   "metadata": {},
   "outputs": [
    {
     "data": {
      "text/plain": [
       "[((1, 2),\n",
       "  {'length': 0.0034243079425882437,\n",
       "   'type': 'droga dla pieszych i rowerów',\n",
       "   'direction': 2.0}),\n",
       " ((1, 19351),\n",
       "  {'length': 0.00851833757835794,\n",
       "   'type': 'droga dla pieszych i rowerów',\n",
       "   'direction': 2.0}),\n",
       " ((1, 52646),\n",
       "  {'length': 0.020012760521502394,\n",
       "   'type': 'droga dla rowerów',\n",
       "   'direction': 2.0}),\n",
       " ((1, 81736),\n",
       "  {'length': 0.01817516505124869,\n",
       "   'type': 'strefa ruchu uspokojonego 20 i 30 km/h',\n",
       "   'direction': 2.0}),\n",
       " ((2, 66477),\n",
       "  {'length': 0.046424317475681355,\n",
       "   'type': 'droga dla pieszych i rowerów',\n",
       "   'direction': 2.0}),\n",
       " ((3, 4),\n",
       "  {'length': 0.010433257293806257,\n",
       "   'type': 'droga dla pieszych i rowerów',\n",
       "   'direction': 2.0}),\n",
       " ((3, 1658),\n",
       "  {'length': 0.019274480834881185,\n",
       "   'type': 'droga dla pieszych i rowerów',\n",
       "   'direction': 2.0}),\n",
       " ((3, 1664),\n",
       "  {'length': 0.036166095087968884,\n",
       "   'type': 'droga dla pieszych i rowerów',\n",
       "   'direction': 2.0}),\n",
       " ((3, 4063),\n",
       "  {'length': 0.0018347509996322056,\n",
       "   'type': 'trasa przez park',\n",
       "   'direction': 2.0}),\n",
       " ((4, 5),\n",
       "  {'length': 0.009784935819193794,\n",
       "   'type': 'droga dla pieszych i rowerów',\n",
       "   'direction': 2.0})]"
      ]
     },
     "execution_count": 9,
     "metadata": {},
     "output_type": "execute_result"
    }
   ],
   "source": [
    "list(new_bikepaths.edges.items())[:10]"
   ]
  },
  {
   "cell_type": "code",
   "execution_count": 10,
   "id": "6d33309d",
   "metadata": {},
   "outputs": [],
   "source": [
    "from src.graph.bike_paths import BikePathType"
   ]
  },
  {
   "cell_type": "code",
   "execution_count": 11,
   "id": "c777bb42",
   "metadata": {},
   "outputs": [],
   "source": [
    "w_list = [\n",
    "    BikePathType.FULL,\n",
    "    BikePathType.THRUPARK,\n",
    "    BikePathType.ONLEVEES,\n",
    "    BikePathType.WITHPEDESTRIANS,\n",
    "]"
   ]
  },
  {
   "cell_type": "code",
   "execution_count": 12,
   "id": "93f713ec",
   "metadata": {},
   "outputs": [
    {
     "data": {
      "text/plain": [
       "[<BikePathType.FULL: 'droga dla rowerów'>,\n",
       " <BikePathType.THRUPARK: 'trasa przez park'>,\n",
       " <BikePathType.ONLEVEES: 'trasa na wałach'>,\n",
       " <BikePathType.WITHPEDESTRIANS: 'droga dla pieszych i rowerów'>]"
      ]
     },
     "execution_count": 12,
     "metadata": {},
     "output_type": "execute_result"
    }
   ],
   "source": [
    "w_list"
   ]
  },
  {
   "cell_type": "code",
   "execution_count": 13,
   "id": "6b63f6b4",
   "metadata": {},
   "outputs": [],
   "source": [
    "to_delete = []\n",
    "for edge, attrib in new_bikepaths.edges.items():\n",
    "    if attrib.get(\"type\") in w_list or attrib.get(\"type\") is None:\n",
    "        continue\n",
    "    to_delete.append(edge)"
   ]
  },
  {
   "cell_type": "code",
   "execution_count": 14,
   "id": "b2dcfc77",
   "metadata": {},
   "outputs": [
    {
     "name": "stdout",
     "output_type": "stream",
     "text": [
      "{'length': 0.01817516505124869, 'type': 'strefa ruchu uspokojonego 20 i 30 km/h', 'direction': 2.0}\n",
      "{'length': 0.00404648400003627, 'type': 'kontraruch', 'direction': 2.0}\n",
      "{'length': 0.08645006719674513, 'type': 'kontraruch', 'direction': 2.0}\n",
      "{'length': 0.010558184527833206, 'type': 'kontraruch', 'direction': 2.0}\n",
      "{'length': 0.001572218278616105, 'type': 'strefa ruchu uspokojonego 20 i 30 km/h', 'direction': 2.0}\n",
      "{'length': 0.010719036748910513, 'type': 'łącznik drogowy', 'direction': 2.0}\n",
      "{'length': 0.004747345990785438, 'type': 'strefa ruchu uspokojonego 20 i 30 km/h', 'direction': 2.0}\n",
      "{'length': 0.00472837640965256, 'type': 'pas ruchu dla rowerów', 'direction': 1.0}\n",
      "{'length': 0.0024427960875027773, 'type': 'pas ruchu dla rowerów', 'direction': 1.0}\n",
      "{'length': 0.003050482926316649, 'type': 'kontraruch', 'direction': 2.0}\n"
     ]
    }
   ],
   "source": [
    "for i in to_delete[:10]:\n",
    "    print(new_bikepaths.edges[i])"
   ]
  },
  {
   "cell_type": "code",
   "execution_count": 17,
   "id": "ceb4569f",
   "metadata": {},
   "outputs": [],
   "source": [
    "sciezki = GraphGenerator().read_graph(\"data/bikepaths.pickle\")"
   ]
  },
  {
   "cell_type": "code",
   "execution_count": 18,
   "id": "4d4adb47",
   "metadata": {},
   "outputs": [
    {
     "data": {
      "text/plain": [
       "[(1, {'pos': (17.05105179721908, 51.10552573556749)}),\n",
       " (2, {'pos': (17.051100797245194, 51.105524399131106)}),\n",
       " (3, {'pos': (17.04652980772954, 51.108920996994755)}),\n",
       " (4, {'pos': (17.046540597303316, 51.10882741331448)}),\n",
       " (5, {'pos': (17.046542407898517, 51.10873942261532)}),\n",
       " (6, {'pos': (17.046489099876215, 51.1086676322474)}),\n",
       " (7, {'pos': (17.046338940550687, 51.10857255975646)}),\n",
       " (8, {'pos': (17.04657166816933, 51.111696234499604)}),\n",
       " (9, {'pos': (17.046466989512595, 51.11175831409584)}),\n",
       " (10, {'pos': (17.046350022036584, 51.11178574421606)}),\n",
       " (11, {'pos': (17.0457573425917, 51.111869548102625)}),\n",
       " (12, {'pos': (17.045402694974314, 51.11191660270338)}),\n",
       " (13, {'pos': (17.044870794348796, 51.111983614713196)}),\n",
       " (14, {'pos': (17.044839765271703, 51.111949110546234)}),\n",
       " (15, {'pos': (17.044387409379386, 51.112006780775666)}),\n",
       " (16, {'pos': (17.044256375542712, 51.111984302672596)}),\n",
       " (17, {'pos': (17.043997637514455, 51.11199788621499)}),\n",
       " (18, {'pos': (17.043817559046712, 51.112044935592024)}),\n",
       " (19, {'pos': (17.043106544502706, 51.11222179043273)}),\n",
       " (20, {'pos': (17.04311838009696, 51.111482363299736)})]"
      ]
     },
     "execution_count": 18,
     "metadata": {},
     "output_type": "execute_result"
    }
   ],
   "source": [
    "sl = list(sciezki.nodes.items())[:20]\n",
    "sl"
   ]
  },
  {
   "cell_type": "code",
   "execution_count": 19,
   "id": "35b2a50c",
   "metadata": {},
   "outputs": [
    {
     "data": {
      "text/plain": [
       "{'droga dla pieszych i rowerów',\n",
       " 'droga dla rowerów',\n",
       " 'kontrapas',\n",
       " 'kontraruch',\n",
       " 'możliwość przejazdu',\n",
       " 'pas BUS + ROWER',\n",
       " 'pas ruchu dla rowerów',\n",
       " 'strefa ruchu uspokojonego 20 i 30 km/h',\n",
       " 'trasa na wałach',\n",
       " 'trasa przez park',\n",
       " 'łącznik drogowy'}"
      ]
     },
     "execution_count": 19,
     "metadata": {},
     "output_type": "execute_result"
    }
   ],
   "source": [
    "typy = set([i.get(\"type\") for i in sciezki.edges.values()])\n",
    "typy"
   ]
  },
  {
   "cell_type": "code",
   "execution_count": 20,
   "id": "0b001d3c",
   "metadata": {},
   "outputs": [
    {
     "data": {
      "text/plain": [
       "(20, {'pos': (17.04311838009696, 51.111482363299736)})"
      ]
     },
     "execution_count": 20,
     "metadata": {},
     "output_type": "execute_result"
    }
   ],
   "source": [
    "max(sl, key=lambda x: x[0])"
   ]
  },
  {
   "cell_type": "code",
   "execution_count": 21,
   "id": "f1803256",
   "metadata": {},
   "outputs": [
    {
     "data": {
      "text/plain": [
       "[((1, 2),\n",
       "  {'length': 0.0034243079425882437,\n",
       "   'type': 'droga dla pieszych i rowerów',\n",
       "   'direction': 2.0}),\n",
       " ((1, 19351),\n",
       "  {'length': 0.00851833757835794,\n",
       "   'type': 'droga dla pieszych i rowerów',\n",
       "   'direction': 2.0}),\n",
       " ((1, 52646),\n",
       "  {'length': 0.020012760521502394,\n",
       "   'type': 'droga dla rowerów',\n",
       "   'direction': 2.0}),\n",
       " ((1, 81736),\n",
       "  {'length': 0.01817516505124869,\n",
       "   'type': 'strefa ruchu uspokojonego 20 i 30 km/h',\n",
       "   'direction': 2.0}),\n",
       " ((2, 66477),\n",
       "  {'length': 0.046424317475681355,\n",
       "   'type': 'droga dla pieszych i rowerów',\n",
       "   'direction': 2.0}),\n",
       " ((3, 4),\n",
       "  {'length': 0.010433257293806257,\n",
       "   'type': 'droga dla pieszych i rowerów',\n",
       "   'direction': 2.0}),\n",
       " ((3, 1658),\n",
       "  {'length': 0.019274480834881185,\n",
       "   'type': 'droga dla pieszych i rowerów',\n",
       "   'direction': 2.0}),\n",
       " ((3, 1664),\n",
       "  {'length': 0.036166095087968884,\n",
       "   'type': 'droga dla pieszych i rowerów',\n",
       "   'direction': 2.0}),\n",
       " ((3, 4063),\n",
       "  {'length': 0.0018347509996322056,\n",
       "   'type': 'trasa przez park',\n",
       "   'direction': 2.0}),\n",
       " ((4, 5),\n",
       "  {'length': 0.009784935819193794,\n",
       "   'type': 'droga dla pieszych i rowerów',\n",
       "   'direction': 2.0}),\n",
       " ((5, 6),\n",
       "  {'length': 0.0088076223337752,\n",
       "   'type': 'droga dla pieszych i rowerów',\n",
       "   'direction': 2.0}),\n",
       " ((6, 7),\n",
       "  {'length': 0.014888048730273887,\n",
       "   'type': 'droga dla pieszych i rowerów',\n",
       "   'direction': 2.0}),\n",
       " ((7, 66284),\n",
       "  {'length': 0.004495659255192528,\n",
       "   'type': 'droga dla pieszych i rowerów',\n",
       "   'direction': 2.0}),\n",
       " ((7, 67949),\n",
       "  {'length': 0.0029567769526371275,\n",
       "   'type': 'droga dla pieszych i rowerów',\n",
       "   'direction': 2.0}),\n",
       " ((8, 9),\n",
       "  {'length': 0.010052345029332783,\n",
       "   'type': 'droga dla rowerów',\n",
       "   'direction': 2.0}),\n",
       " ((8, 36350),\n",
       "  {'length': 0.009060521723714398,\n",
       "   'type': 'droga dla rowerów',\n",
       "   'direction': 2.0}),\n",
       " ((8, 68527),\n",
       "  {'length': 0.03229416170583307,\n",
       "   'type': 'droga dla pieszych i rowerów',\n",
       "   'direction': 2.0}),\n",
       " ((9, 10),\n",
       "  {'length': 0.0087163991653925,\n",
       "   'type': 'droga dla rowerów',\n",
       "   'direction': 2.0}),\n",
       " ((10, 11),\n",
       "  {'length': 0.0424104453787805,\n",
       "   'type': 'droga dla rowerów',\n",
       "   'direction': 2.0}),\n",
       " ((11, 12),\n",
       "  {'length': 0.025304213893768288,\n",
       "   'type': 'droga dla rowerów',\n",
       "   'direction': 2.0})]"
      ]
     },
     "execution_count": 21,
     "metadata": {},
     "output_type": "execute_result"
    }
   ],
   "source": [
    "list(sciezki.edges.items())[:20]  # len in km"
   ]
  },
  {
   "cell_type": "code",
   "execution_count": 1,
   "id": "214da715",
   "metadata": {},
   "outputs": [],
   "source": [
    "import networkx as nx\n",
    "\n",
    "from src.graph.graph_generator import GraphGenerator\n",
    "from src.utils import haversine\n",
    "from src.algorithm.link_attractions import get_attraction_pairs"
   ]
  },
  {
   "cell_type": "code",
   "execution_count": 2,
   "id": "76d043de",
   "metadata": {},
   "outputs": [],
   "source": [
    "attractions = GraphGenerator().read_graph(\"data/attractions.pickle\")"
   ]
  },
  {
   "cell_type": "code",
   "execution_count": 3,
   "id": "db4a7f7f",
   "metadata": {},
   "outputs": [
    {
     "data": {
      "text/plain": [
       "622"
      ]
     },
     "execution_count": 3,
     "metadata": {},
     "output_type": "execute_result"
    }
   ],
   "source": [
    "len(list(attractions.nodes.items()))"
   ]
  },
  {
   "cell_type": "code",
   "execution_count": 4,
   "id": "2760c45a",
   "metadata": {},
   "outputs": [],
   "source": [
    "atrakcje = list(attractions.nodes.values())\n",
    "distant_attractions = []\n",
    "for i, a1 in enumerate(atrakcje[:-1]):\n",
    "    for a2 in atrakcje[i:]:\n",
    "        dist = haversine(*a1[\"pos\"], *a2[\"pos\"])\n",
    "        if dist > 1.0:\n",
    "            distant_attractions.append((a1, a2))"
   ]
  },
  {
   "cell_type": "code",
   "execution_count": 5,
   "id": "eeca757f",
   "metadata": {},
   "outputs": [
    {
     "data": {
      "text/plain": [
       "160315"
      ]
     },
     "execution_count": 5,
     "metadata": {},
     "output_type": "execute_result"
    }
   ],
   "source": [
    "len(distant_attractions)"
   ]
  },
  {
   "cell_type": "code",
   "execution_count": 6,
   "id": "924aaa26",
   "metadata": {},
   "outputs": [
    {
     "data": {
      "text/plain": [
       "386262"
      ]
     },
     "execution_count": 6,
     "metadata": {},
     "output_type": "execute_result"
    }
   ],
   "source": [
    "622*621"
   ]
  },
  {
   "cell_type": "code",
   "execution_count": 7,
   "id": "b2e9ce79",
   "metadata": {},
   "outputs": [],
   "source": [
    "pairs = get_attraction_pairs(attractions, min_len=1.0, max_weld_distance=0.0)"
   ]
  },
  {
   "cell_type": "code",
   "execution_count": 9,
   "id": "c4248e16",
   "metadata": {},
   "outputs": [
    {
     "data": {
      "text/plain": [
       "160315"
      ]
     },
     "execution_count": 9,
     "metadata": {},
     "output_type": "execute_result"
    }
   ],
   "source": [
    "len(pairs)"
   ]
  },
  {
   "cell_type": "code",
   "execution_count": 29,
   "id": "68ad9e9e",
   "metadata": {},
   "outputs": [],
   "source": [
    "lt = list(attractions.nodes.items())[:20]"
   ]
  },
  {
   "cell_type": "code",
   "execution_count": 33,
   "id": "5bf17dca",
   "metadata": {},
   "outputs": [],
   "source": [
    "roads = GraphGenerator().read_graph(\"data/roads.pickle\")"
   ]
  },
  {
   "cell_type": "code",
   "execution_count": 34,
   "id": "51867d74",
   "metadata": {},
   "outputs": [
    {
     "data": {
      "text/plain": [
       "363567"
      ]
     },
     "execution_count": 34,
     "metadata": {},
     "output_type": "execute_result"
    }
   ],
   "source": [
    "len(list(roads.nodes.items()))"
   ]
  },
  {
   "cell_type": "code",
   "execution_count": 35,
   "id": "e07454b2",
   "metadata": {},
   "outputs": [
    {
     "data": {
      "text/plain": [
       "[((1, 2), {'length': 0.008315940178920017}),\n",
       " ((1, 6), {'length': 0.04377714805026377}),\n",
       " ((1, 315629), {'length': 0.028999427284409712}),\n",
       " ((2, 3), {'length': 0.004976892650912453}),\n",
       " ((3, 4), {'length': 0.004777844775692837}),\n",
       " ((4, 5), {'length': 0.024804662310431966}),\n",
       " ((5, 9), {'length': 0.007868387125612268}),\n",
       " ((6, 7), {'length': 0.007671896014834679}),\n",
       " ((7, 8), {'length': 0.008142100240862477}),\n",
       " ((8, 9), {'length': 0.0060727583958179515}),\n",
       " ((10, 11), {'length': 0.006847669816605806}),\n",
       " ((11, 12), {'length': 0.004800362849796128}),\n",
       " ((12, 13), {'length': 0.038717311749634636}),\n",
       " ((13, 14), {'length': 0.026712922976532567}),\n",
       " ((14, 15), {'length': 0.005352366981611951}),\n",
       " ((15, 16), {'length': 0.046033138070990604}),\n",
       " ((16, 17), {'length': 0.024777415915301908}),\n",
       " ((17, 18), {'length': 0.005876421817823748}),\n",
       " ((18, 24912), {'length': 0.0054645614742736505}),\n",
       " ((19, 20), {'length': 0.008546882134737263})]"
      ]
     },
     "execution_count": 35,
     "metadata": {},
     "output_type": "execute_result"
    }
   ],
   "source": [
    "list(roads.edges.items())[:20]  # len in km"
   ]
  },
  {
   "cell_type": "markdown",
   "id": "dfc7bfba",
   "metadata": {},
   "source": [
    "# Adding attractions to graphs"
   ]
  },
  {
   "cell_type": "code",
   "execution_count": 36,
   "id": "bb2c6df6",
   "metadata": {},
   "outputs": [],
   "source": [
    "from src.algorithm.join import join_attractions"
   ]
  },
  {
   "cell_type": "markdown",
   "id": "f0d60c82",
   "metadata": {},
   "source": [
    "## Merging roads and attractions"
   ]
  },
  {
   "cell_type": "code",
   "execution_count": null,
   "id": "eea1b1ad",
   "metadata": {},
   "outputs": [],
   "source": [
    "roads_w_attractions = join_attractions(roads, attractions)"
   ]
  },
  {
   "cell_type": "code",
   "execution_count": null,
   "id": "e96a7833",
   "metadata": {},
   "outputs": [],
   "source": [
    "list(roads_w_attractions.nodes.items())[-3:]"
   ]
  },
  {
   "cell_type": "code",
   "execution_count": null,
   "id": "a2e33290",
   "metadata": {},
   "outputs": [],
   "source": [
    "next(roads_w_attractions.neighbors(363568))"
   ]
  },
  {
   "cell_type": "code",
   "execution_count": null,
   "id": "9837dd38",
   "metadata": {},
   "outputs": [],
   "source": [
    "list(roads_w_attractions.nodes.items())[294396]"
   ]
  },
  {
   "cell_type": "code",
   "execution_count": null,
   "id": "27b4bdb0",
   "metadata": {},
   "outputs": [],
   "source": [
    "list(roads_w_attractions.edges(363568))[0]"
   ]
  },
  {
   "cell_type": "code",
   "execution_count": null,
   "id": "0f479714",
   "metadata": {},
   "outputs": [],
   "source": [
    "list(filter(lambda x: x[0][1] == 363568, list(roads_w_attractions.edges.items())))"
   ]
  },
  {
   "cell_type": "code",
   "execution_count": null,
   "id": "379f725d",
   "metadata": {},
   "outputs": [],
   "source": [
    "list(roads_w_attractions.edges.items())[-1]"
   ]
  },
  {
   "cell_type": "markdown",
   "id": "047ba722",
   "metadata": {},
   "source": [
    "## Merging bikelanes and attractions"
   ]
  },
  {
   "cell_type": "code",
   "execution_count": null,
   "id": "f052c846",
   "metadata": {},
   "outputs": [],
   "source": [
    "bikelanes_w_attractions = join_attractions(sciezki, attractions)"
   ]
  },
  {
   "cell_type": "code",
   "execution_count": null,
   "id": "f7a0c0f8",
   "metadata": {},
   "outputs": [],
   "source": [
    "list(bikelanes_w_attractions.nodes.items())[-1]"
   ]
  },
  {
   "cell_type": "code",
   "execution_count": null,
   "id": "d2093987",
   "metadata": {},
   "outputs": [],
   "source": [
    "next(bikelanes_w_attractions.neighbors(89810))"
   ]
  },
  {
   "cell_type": "code",
   "execution_count": null,
   "id": "6333cbc2",
   "metadata": {},
   "outputs": [],
   "source": [
    "list(bikelanes_w_attractions.nodes.items())[81916]"
   ]
  },
  {
   "cell_type": "code",
   "execution_count": null,
   "id": "bcefb0f7",
   "metadata": {},
   "outputs": [],
   "source": [
    "list(bikelanes_w_attractions.edges(89810))"
   ]
  },
  {
   "cell_type": "code",
   "execution_count": null,
   "id": "c8f68975",
   "metadata": {},
   "outputs": [],
   "source": [
    "list(filter(lambda x: x[0][1] == 89810, list(bikelanes_w_attractions.edges.items())))"
   ]
  },
  {
   "cell_type": "code",
   "execution_count": null,
   "id": "f2b3c583",
   "metadata": {},
   "outputs": [],
   "source": [
    "list(bikelanes_w_attractions.edges.items())[-1]"
   ]
  },
  {
   "cell_type": "markdown",
   "id": "0633074d",
   "metadata": {},
   "source": [
    "# A-Star test"
   ]
  },
  {
   "cell_type": "code",
   "execution_count": 2,
   "id": "3586de73",
   "metadata": {},
   "outputs": [],
   "source": [
    "from src.algorithm.search_path import find_path"
   ]
  },
  {
   "cell_type": "code",
   "execution_count": 3,
   "id": "d0914ded",
   "metadata": {},
   "outputs": [],
   "source": [
    "roads_w_attractions = GraphGenerator().read_graph(\"data/roads_w_attractions.pickle\")\n",
    "bikepaths_w_attractions = GraphGenerator().read_graph(\"data/bikepaths_w_attractions.pickle\")"
   ]
  },
  {
   "cell_type": "code",
   "execution_count": 4,
   "id": "fa7d0d91",
   "metadata": {},
   "outputs": [],
   "source": [
    "start_node = roads_w_attractions.nodes[363568]\n",
    "end_node = roads_w_attractions.nodes[363570]"
   ]
  },
  {
   "cell_type": "code",
   "execution_count": 5,
   "id": "eceacf58",
   "metadata": {},
   "outputs": [
    {
     "data": {
      "text/plain": [
       "{'pos': (17.005575, 51.1285499), 'name': None, 'id': 1}"
      ]
     },
     "execution_count": 5,
     "metadata": {},
     "output_type": "execute_result"
    }
   ],
   "source": [
    "start_node"
   ]
  },
  {
   "cell_type": "code",
   "execution_count": 6,
   "id": "0e80731a",
   "metadata": {},
   "outputs": [
    {
     "data": {
      "text/plain": [
       "{'pos': (17.0304809, 51.1111876), 'name': 'Śpioch', 'id': 3}"
      ]
     },
     "execution_count": 6,
     "metadata": {},
     "output_type": "execute_result"
    }
   ],
   "source": [
    "end_node"
   ]
  },
  {
   "cell_type": "code",
   "execution_count": 7,
   "id": "97717236",
   "metadata": {},
   "outputs": [],
   "source": [
    "start_b = list(filter(lambda x: x[1].get(\"id\") == 1, list(bikepaths_w_attractions.nodes.items())))[0]"
   ]
  },
  {
   "cell_type": "code",
   "execution_count": 8,
   "id": "fcaac2b8",
   "metadata": {},
   "outputs": [],
   "source": [
    "end_b = list(filter(lambda x: x[1].get(\"id\") == 3, list(bikepaths_w_attractions.nodes.items())))[0]"
   ]
  },
  {
   "cell_type": "code",
   "execution_count": 9,
   "id": "e1656c85",
   "metadata": {},
   "outputs": [
    {
     "data": {
      "text/plain": [
       "(89810, {'pos': (17.005575, 51.1285499), 'name': None, 'id': 1})"
      ]
     },
     "execution_count": 9,
     "metadata": {},
     "output_type": "execute_result"
    }
   ],
   "source": [
    "start_b"
   ]
  },
  {
   "cell_type": "code",
   "execution_count": 10,
   "id": "32e5d16b",
   "metadata": {},
   "outputs": [
    {
     "data": {
      "text/plain": [
       "(89812, {'pos': (17.0304809, 51.1111876), 'name': 'Śpioch', 'id': 3})"
      ]
     },
     "execution_count": 10,
     "metadata": {},
     "output_type": "execute_result"
    }
   ],
   "source": [
    "end_b"
   ]
  },
  {
   "cell_type": "code",
   "execution_count": 11,
   "id": "0e755f44",
   "metadata": {},
   "outputs": [],
   "source": [
    "path = find_path(roads_w_attractions, 363568, 363570)"
   ]
  },
  {
   "cell_type": "code",
   "execution_count": 21,
   "id": "83d3208f",
   "metadata": {},
   "outputs": [],
   "source": [
    "bike_path = find_path(bikepaths_w_attractions, start_b[0], end_b[0])"
   ]
  },
  {
   "cell_type": "code",
   "execution_count": 13,
   "id": "8e245a5b",
   "metadata": {},
   "outputs": [],
   "source": [
    "from networkx.classes.function import path_weight"
   ]
  },
  {
   "cell_type": "code",
   "execution_count": 22,
   "id": "06834ccb",
   "metadata": {},
   "outputs": [],
   "source": [
    "path_len = path_weight(roads_w_attractions, path, weight=\"length\")"
   ]
  },
  {
   "cell_type": "code",
   "execution_count": 24,
   "id": "49fa95f6",
   "metadata": {},
   "outputs": [],
   "source": [
    "bike_path_len = path_weight(bikepaths_w_attractions, bike_path, weight=\"length\")"
   ]
  },
  {
   "cell_type": "markdown",
   "id": "4f5840bf",
   "metadata": {},
   "source": [
    "# Przykład użycia schemy"
   ]
  },
  {
   "cell_type": "code",
   "execution_count": 28,
   "id": "47839ff8",
   "metadata": {},
   "outputs": [],
   "source": [
    "import json\n",
    "from src.graph.path_schema import AttractionNode, AttractionsPair, Path, PairsList"
   ]
  },
  {
   "cell_type": "code",
   "execution_count": 27,
   "id": "2fab32ea",
   "metadata": {},
   "outputs": [],
   "source": [
    "file_content = PairsList(\n",
    "    pairs=[\n",
    "        AttractionsPair(\n",
    "            start=AttractionNode(**start_b[1]),\n",
    "            end=AttractionNode(**end_b[1]),\n",
    "            bike_path=Path(\n",
    "                edges=bike_path,\n",
    "                length=bike_path_len,\n",
    "            ),\n",
    "            other_path=Path(\n",
    "                edges=path,\n",
    "                length=path_len,\n",
    "            ),\n",
    "        ),\n",
    "    ]\n",
    ")"
   ]
  },
  {
   "cell_type": "code",
   "execution_count": 34,
   "id": "e631d83d",
   "metadata": {},
   "outputs": [],
   "source": [
    "with open('data.json', 'w') as f:\n",
    "    json.dump(file_content.dict(), f, indent=4, ensure_ascii=False)"
   ]
  }
 ],
 "metadata": {
  "kernelspec": {
   "display_name": "Python 3 (ipykernel)",
   "language": "python",
   "name": "python3"
  },
  "language_info": {
   "codemirror_mode": {
    "name": "ipython",
    "version": 3
   },
   "file_extension": ".py",
   "mimetype": "text/x-python",
   "name": "python",
   "nbconvert_exporter": "python",
   "pygments_lexer": "ipython3",
   "version": "3.9.2"
  }
 },
 "nbformat": 4,
 "nbformat_minor": 5
}

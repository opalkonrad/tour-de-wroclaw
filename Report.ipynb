{
 "cells": [
  {
   "cell_type": "code",
   "execution_count": 1,
   "id": "d6326359",
   "metadata": {},
   "outputs": [],
   "source": [
    "from pathlib import Path\n",
    "import collections\n",
    "import fiona\n",
    "\n",
    "from src.graph.graph_generator import GraphGenerator\n",
    "from src.graph.path_schema import PairsList"
   ]
  },
  {
   "cell_type": "markdown",
   "id": "93727a5d",
   "metadata": {},
   "source": [
    "# Wczytywanie grafów\n",
    "- grafu reprezentującego ściezki rowerowe, które zostały połączone z atrakcjami\n",
    "- grafu reprezentującego drogi, chodniki itp., które zostały połączone z atrakcjami"
   ]
  },
  {
   "cell_type": "code",
   "execution_count": 2,
   "id": "atlantic-stage",
   "metadata": {},
   "outputs": [],
   "source": [
    "graph_generator = GraphGenerator()\n",
    "\n",
    "roads_graph = graph_generator.read_graph(\"data/roads_w_attractions.pickle\")\n",
    "bike_paths_graph = graph_generator.read_graph(\"data/bikepaths_w_attractions.pickle\")"
   ]
  },
  {
   "cell_type": "markdown",
   "id": "77e1ec48",
   "metadata": {},
   "source": [
    "# Wczytywanie plików z zapisanymi trasami pomiędzy atrakcjami"
   ]
  },
  {
   "cell_type": "code",
   "execution_count": 3,
   "id": "b9209769",
   "metadata": {},
   "outputs": [
    {
     "name": "stdout",
     "output_type": "stream",
     "text": [
      "40\n"
     ]
    }
   ],
   "source": [
    "PATHS_DIR = \"out\"\n",
    "\n",
    "paths_dir = Path(PATHS_DIR)\n",
    "\n",
    "paths_files = list(paths_dir.glob(\"data*.json\"))\n",
    "\n",
    "print(len(paths_files))"
   ]
  },
  {
   "cell_type": "code",
   "execution_count": 4,
   "id": "b1d63207",
   "metadata": {},
   "outputs": [],
   "source": [
    "files_contents = PairsList(pairs=[])\n",
    "\n",
    "for file in paths_files:\n",
    "    content = PairsList.parse_file(file)\n",
    "    files_contents.pairs = [*files_contents.pairs, *content.pairs]"
   ]
  },
  {
   "cell_type": "code",
   "execution_count": 5,
   "id": "b649002d",
   "metadata": {},
   "outputs": [
    {
     "data": {
      "text/plain": [
       "40000"
      ]
     },
     "execution_count": 5,
     "metadata": {},
     "output_type": "execute_result"
    }
   ],
   "source": [
    "len(files_contents.pairs)"
   ]
  },
  {
   "cell_type": "code",
   "execution_count": 6,
   "metadata": {},
   "outputs": [
    {
     "name": "stdout",
     "output_type": "stream",
     "text": [
      "Z:           Rzeźba lwa do:               Ślepak -  Roads:   5.060 km,\tBike Lanes:   5.578 km,\tSafer Bike Lanes:  5.691 km\n",
      "Z:               Piątka do:            Bankierek -  Roads:   2.688 km,\tBike Lanes:   3.172 km,\tSafer Bike Lanes:  3.172 km\n",
      "Z:                 Sowy do:               Trener -  Roads:   2.276 km,\tBike Lanes:   2.373 km,\tSafer Bike Lanes:  2.373 km\n",
      "Z:          Rozkwietnik do:                  486 -  Roads:   2.035 km,\tBike Lanes:   2.418 km,\tSafer Bike Lanes:  2.425 km\n",
      "Z:            Esencjusz do:                  390 -  Roads:   1.552 km,\tBike Lanes:   1.611 km,\tSafer Bike Lanes:    inf km\n",
      "Z:                Zebra do:                  511 -  Roads:   2.206 km,\tBike Lanes:   2.198 km,\tSafer Bike Lanes:  2.198 km\n",
      "Z:     Ma(STE)rche(FEK) do:      Galeria Miejska -  Roads:   1.534 km,\tBike Lanes:   1.393 km,\tSafer Bike Lanes:    inf km\n",
      "Z: Mauzoleum Piastów Śl do:                  548 -  Roads:   1.554 km,\tBike Lanes:   1.604 km,\tSafer Bike Lanes:  2.613 km\n",
      "Z:          Anioł stróż do:                  617 -  Roads:   4.774 km,\tBike Lanes:   5.094 km,\tSafer Bike Lanes:  5.878 km\n",
      "Z:              Pożarki do:                  448 -  Roads:   7.428 km,\tBike Lanes:     inf km,\tSafer Bike Lanes:    inf km\n",
      "Z:               Izutsu do: zwierciadło akustycz -  Roads:   4.332 km,\tBike Lanes:   4.740 km,\tSafer Bike Lanes:  4.867 km\n",
      "Z:     Kotik afrykański do:          Ogrodopasek -  Roads:   4.080 km,\tBike Lanes:   3.926 km,\tSafer Bike Lanes:  4.662 km\n",
      "Z:           Mural Okno do:                  566 -  Roads:   1.880 km,\tBike Lanes:   2.056 km,\tSafer Bike Lanes:  2.056 km\n",
      "Z:  Krasnale Tolerancji do:                  595 -  Roads:  13.052 km,\tBike Lanes:  17.259 km,\tSafer Bike Lanes:    inf km\n",
      "Z:                 Anka do:                  439 -  Roads:   2.175 km,\tBike Lanes:   2.372 km,\tSafer Bike Lanes:  2.527 km\n",
      "Z:             Wodziarz do:              Zgryzek -  Roads:   6.059 km,\tBike Lanes:   6.415 km,\tSafer Bike Lanes:  6.886 km\n",
      "Z:        Macierzyństwo do:             Diakonki -  Roads:   6.414 km,\tBike Lanes:   7.317 km,\tSafer Bike Lanes:  7.502 km\n",
      "Z:     Orzeł Piastowski do:                  484 -  Roads:   4.300 km,\tBike Lanes:   5.054 km,\tSafer Bike Lanes:    inf km\n",
      "Z:           Cermigiusz do:                  ULV -  Roads:     inf km,\tBike Lanes:   2.213 km,\tSafer Bike Lanes:    inf km\n",
      "Z:  Kryształowa Planeta do:              Hugonek -  Roads:   3.230 km,\tBike Lanes:   3.300 km,\tSafer Bike Lanes:  3.526 km\n"
     ]
    }
   ],
   "source": [
    "for pair in files_contents.pairs[:20]:\n",
    "    len1 = pair.other_path.length if pair.other_path else float(\"inf\")\n",
    "    len2 = pair.bike_path.length if pair.bike_path else float(\"inf\")\n",
    "    len3 = pair.safer_bike_path.length if pair.safer_bike_path else float(\"inf\")\n",
    "    start_title = pair.start.name[:20] if pair.start.name else pair.start.id\n",
    "    end_title = pair.end.name[:20] if pair.end.name else pair.end.id\n",
    "    print(f\"Z: {start_title:>20} do: {end_title:>20}\", end=\" -  \")\n",
    "    print(f\"Roads: {len1:7.3f} km,\\tBike Lanes: {len2:7.3f} km,\\tSafer Bike Lanes:{len3:7.3f} km\")"
   ]
  },
  {
   "cell_type": "markdown",
   "id": "9de7f13c",
   "metadata": {},
   "source": [
    "# Sprawdźmy jaki był stosunek długości dróg"
   ]
  },
  {
   "cell_type": "code",
   "execution_count": 7,
   "id": "d54223c8",
   "metadata": {},
   "outputs": [],
   "source": [
    "def get_ratios(p1, p2, p3):\n",
    "    len1 = p1.length if p1 else None\n",
    "    len2 = p2.length if p2 else None\n",
    "    len3 = p3.length if p3 else None\n",
    "    ratio1 = 0.0\n",
    "    ratio2 = 0.0\n",
    "    if len1 is not None and len2 is not None:\n",
    "        ratio1 = len2 / len1\n",
    "    if len1 is not None and len3 is not None:\n",
    "        ratio2 = len3 / len1\n",
    "    return ratio1, ratio2\n",
    "\n",
    "ratios = [(i, *get_ratios(pair.other_path, pair.bike_path, pair.safer_bike_path)) for i, pair in enumerate(files_contents.pairs)]\n",
    "ratios_filtered = list(filter(lambda x: x[1] != 0 or x[2] != 0, ratios))"
   ]
  },
  {
   "cell_type": "code",
   "execution_count": 8,
   "id": "8ef9eb3c",
   "metadata": {},
   "outputs": [
    {
     "name": "stdout",
     "output_type": "stream",
     "text": [
      "Ratios len: 40000, filtered len: 37469\n"
     ]
    }
   ],
   "source": [
    "print(f\"Ratios len: {len(ratios)}, filtered len: {len(ratios_filtered)}\")"
   ]
  },
  {
   "cell_type": "code",
   "execution_count": 9,
   "id": "ed89b233",
   "metadata": {},
   "outputs": [
    {
     "data": {
      "text/plain": [
       "[(0, 1.1024852186022238, 1.1248009710622415),\n",
       " (1, 1.1800221651768918, 1.1800221651768918),\n",
       " (2, 1.0424940379846415, 1.0424940379846415),\n",
       " (3, 1.1880991137154318, 1.1918221911263427),\n",
       " (4, 1.0382575510395458, 0.0),\n",
       " (5, 0.9963989257541389, 0.9963989257541389),\n",
       " (6, 0.9077646675366177, 0.0),\n",
       " (7, 1.0323687911113106, 1.6817584321836105),\n",
       " (8, 1.067017385075157, 1.2312501153783992),\n",
       " (10, 1.094314130597677, 1.123504806032508),\n",
       " (11, 0.9622186190246654, 1.1426957006753453),\n",
       " (12, 1.0936916872652238, 1.0936916872652238),\n",
       " (13, 1.3223563923431072, 0.0),\n",
       " (14, 1.0904084452281764, 1.1617651530436575),\n",
       " (15, 1.0586803408479482, 1.136521054999785),\n",
       " (16, 1.1406716425378625, 1.1695623631423693),\n",
       " (17, 1.1754371434022433, 0.0),\n",
       " (19, 1.0218027290082823, 1.0916882958285883),\n",
       " (20, 1.1676948403021745, 0.0),\n",
       " (21, 1.0231827045320054, 0.0)]"
      ]
     },
     "execution_count": 9,
     "metadata": {},
     "output_type": "execute_result"
    }
   ],
   "source": [
    "ratios_filtered[:20]"
   ]
  },
  {
   "cell_type": "markdown",
   "id": "22b6d395",
   "metadata": {},
   "source": [
    "# Algorytm znajdowania braków w infrastrukturze rowerowej\n",
    "Spróbujmy jakoś uszeregować ścieżki znalezione pomiędzy atrakcjami ze względu na dostępność dla rowerów"
   ]
  },
  {
   "cell_type": "code",
   "execution_count": 10,
   "id": "336cc9ab",
   "metadata": {},
   "outputs": [
    {
     "name": "stdout",
     "output_type": "stream",
     "text": [
      "(24839, 2.838886526001886, 0.0)\n",
      "(5065, 1.015611407209453, 4.036488944296039)\n"
     ]
    }
   ],
   "source": [
    "print(max(ratios_filtered, key=lambda x: x[1]))\n",
    "print(max(ratios_filtered, key=lambda x: x[2]))"
   ]
  },
  {
   "cell_type": "code",
   "execution_count": 11,
   "id": "96165c2a",
   "metadata": {},
   "outputs": [],
   "source": [
    "max_ratio1 = max(ratios_filtered, key=lambda x: x[1])[1]\n",
    "max_ratio2 = max(ratios_filtered, key=lambda x: x[2])[2]\n",
    "points = {}\n",
    "points1 = {}\n",
    "\n",
    "for pair_index, ratio1, ratio2 in ratios_filtered:\n",
    "    pair =files_contents.pairs[pair_index]\n",
    "    if pair.other_path is not None and pair.bike_path is not None:\n",
    "        ratio = ratio1 if ratio1 != 0 else max_ratio1\n",
    "        for (i, j) in zip(pair.other_path.edges, pair.other_path.edges[1:]):\n",
    "            d_points = ratio - 1.0 if ratio >= 1.0 else 0.0\n",
    "            points[(i, j)] = points.get((i, j), 0) + d_points\n",
    "\n",
    "    if pair.bike_path is not None and pair.safer_bike_path is not None:\n",
    "        ratio = ratio2 if ratio2 != 0 else max_ratio2\n",
    "        for (i, j) in zip(pair.bike_path.edges, pair.bike_path.edges[1:]):\n",
    "            d_points = ratio - 1.0 if ratio >= 1.0 else 0.0\n",
    "            points1[(i, j)] = points.get((i, j), 0) + ratio - 1.0"
   ]
  },
  {
   "cell_type": "code",
   "execution_count": 12,
   "id": "08577bc9",
   "metadata": {},
   "outputs": [
    {
     "data": {
      "text/plain": [
       "((1077, 1078), 343.9107216083429)"
      ]
     },
     "execution_count": 12,
     "metadata": {},
     "output_type": "execute_result"
    }
   ],
   "source": [
    "max(points.items(), key=lambda x: x[1])"
   ]
  },
  {
   "cell_type": "code",
   "execution_count": 13,
   "id": "93f2b89f",
   "metadata": {},
   "outputs": [
    {
     "data": {
      "text/plain": [
       "((2385, 2384), 238.67929585579787)"
      ]
     },
     "execution_count": 13,
     "metadata": {},
     "output_type": "execute_result"
    }
   ],
   "source": [
    "max(points1.items(), key=lambda x: x[1])"
   ]
  },
  {
   "cell_type": "code",
   "execution_count": 47,
   "id": "d516b863",
   "metadata": {},
   "outputs": [],
   "source": [
    "missing_bikelanes = {}\n",
    "for k, v in points.items():\n",
    "    if missing_bikelanes.get(v) is None:\n",
    "        missing_bikelanes[v] = []\n",
    "    missing_bikelanes[v].append(k)\n",
    "\n",
    "missing_safer_bikelanes = {}\n",
    "for k, v in points1.items():\n",
    "    if missing_safer_bikelanes.get(v) is None:\n",
    "        missing_safer_bikelanes[v] = []\n",
    "    missing_safer_bikelanes[v].append(k)"
   ]
  },
  {
   "cell_type": "code",
   "execution_count": 48,
   "id": "6fd87230",
   "metadata": {},
   "outputs": [],
   "source": [
    "missing_bikelanes = dict(filter(lambda x: x[0] >= 100, missing_bikelanes.items()))\n",
    "missing_safer_bikelanes = dict(filter(lambda x: x[0] >= 100, missing_safer_bikelanes.items()))"
   ]
  },
  {
   "cell_type": "code",
   "execution_count": 49,
   "id": "95e44384",
   "metadata": {},
   "outputs": [],
   "source": [
    "roads_edges_ids = [i[1] for i in missing_bikelanes.items()]\n",
    "bikepaths_edges_ids = [i[1] for i in missing_safer_bikelanes.items()]"
   ]
  },
  {
   "cell_type": "code",
   "execution_count": 50,
   "id": "bb89c808",
   "metadata": {},
   "outputs": [],
   "source": [
    "paths_nodes = []\n",
    "\n",
    "for path in roads_edges_ids:\n",
    "    path_nodes = []\n",
    "    for i, j in path:\n",
    "        if len(path_nodes) == 0 or path_nodes[-1] != i:\n",
    "            path_nodes.append(i)\n",
    "        if path_nodes[-1] != j:\n",
    "            path_nodes.append(j)\n",
    "    paths_nodes.append(path_nodes)\n",
    "\n",
    "proposed_bikelanes_coords = [[roads_graph.nodes[node][\"pos\"] for node in path] for path in paths_nodes]"
   ]
  },
  {
   "cell_type": "code",
   "execution_count": 51,
   "id": "560d9019",
   "metadata": {},
   "outputs": [],
   "source": [
    "paths_nodes = []\n",
    "\n",
    "for path in bikepaths_edges_ids:\n",
    "    path_nodes = []\n",
    "    for i, j in path:\n",
    "        if len(path_nodes) == 0 or path_nodes[-1] != i:\n",
    "            path_nodes.append(i)\n",
    "        if path_nodes[-1] != j:\n",
    "            path_nodes.append(j)\n",
    "    paths_nodes.append(path_nodes)\n",
    "\n",
    "proposed_safer_bikelanes_coords = [[bike_paths_graph.nodes[node][\"pos\"] for node in path] for path in paths_nodes]"
   ]
  },
  {
   "cell_type": "code",
   "execution_count": 52,
   "id": "f155a921",
   "metadata": {},
   "outputs": [],
   "source": [
    "with fiona.open('data/lines.shp') as src:\n",
    "    meta = src.meta"
   ]
  },
  {
   "cell_type": "code",
   "execution_count": 53,
   "id": "3f92a812",
   "metadata": {},
   "outputs": [],
   "source": [
    "with fiona.open(\"out/propose_bike_paths.shp\", \"w\", **meta) as dst:\n",
    "    for i, path in enumerate(proposed_bikelanes_coords):\n",
    "        path = {\n",
    "            \"type\": \"Feature\",\n",
    "            \"id\": i + 1,\n",
    "            \"properties\": collections.OrderedDict([('osm_id', f'{i + 1000000}'),\n",
    "               ('name', None),\n",
    "               ('highway', 'motorway'),\n",
    "               ('waterway', None),\n",
    "               ('aerialway', None),\n",
    "               ('barrier', None),\n",
    "               ('man_made', None),\n",
    "               ('z_order', 9),\n",
    "               ('other_tags',\n",
    "                '')]),\n",
    "            \"geometry\": {\n",
    "                \"type\": \"LineString\",\n",
    "                \"coordinates\": path\n",
    "            }\n",
    "        }\n",
    "        dst.write(path)"
   ]
  },
  {
   "cell_type": "code",
   "execution_count": 54,
   "id": "75d9c904",
   "metadata": {},
   "outputs": [],
   "source": [
    "with fiona.open(\"out/propose_safer_bike_paths.shp\", \"w\", **meta) as dst:\n",
    "    for i, path in enumerate(proposed_safer_bikelanes_coords):\n",
    "        path = {\n",
    "            \"type\": \"Feature\",\n",
    "            \"id\": i + 1,\n",
    "            \"properties\": collections.OrderedDict([('osm_id', f'{i + 2000000}'),\n",
    "               ('name', None),\n",
    "               ('highway', 'motorway'),\n",
    "               ('waterway', None),\n",
    "               ('aerialway', None),\n",
    "               ('barrier', None),\n",
    "               ('man_made', None),\n",
    "               ('z_order', 9),\n",
    "               ('other_tags',\n",
    "                '')]),\n",
    "            \"geometry\": {\n",
    "                \"type\": \"LineString\",\n",
    "                \"coordinates\": path\n",
    "            }\n",
    "        }\n",
    "        dst.write(path)"
   ]
  }
 ],
 "metadata": {
  "kernelspec": {
   "display_name": "Python 3 (ipykernel)",
   "language": "python",
   "name": "python3"
  },
  "language_info": {
   "codemirror_mode": {
    "name": "ipython",
    "version": 3
   },
   "file_extension": ".py",
   "mimetype": "text/x-python",
   "name": "python",
   "nbconvert_exporter": "python",
   "pygments_lexer": "ipython3",
   "version": "3.9.2"
  }
 },
 "nbformat": 4,
 "nbformat_minor": 5
}

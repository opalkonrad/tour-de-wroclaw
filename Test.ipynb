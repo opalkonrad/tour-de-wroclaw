{
 "cells": [
  {
   "cell_type": "code",
   "execution_count": 1,
   "id": "163dc56b",
   "metadata": {},
   "outputs": [],
   "source": [
    "import networkx as nx\n",
    "\n",
    "from src.graph.graph_generator import GraphGenerator"
   ]
  },
  {
   "cell_type": "code",
   "execution_count": 19,
   "id": "007d9d01",
   "metadata": {},
   "outputs": [],
   "source": [
    "sciezki = GraphGenerator().read_graph(\"data/official\")"
   ]
  },
  {
   "cell_type": "code",
   "execution_count": 20,
   "id": "f47531ba",
   "metadata": {},
   "outputs": [
    {
     "data": {
      "text/plain": [
       "[(1, {'pos': (17.05105179721908, 51.10552573556749)}),\n",
       " (2, {'pos': (17.051100797245194, 51.105524399131106)}),\n",
       " (3, {'pos': (17.04652980772954, 51.108920996994755)}),\n",
       " (4, {'pos': (17.046540597303316, 51.10882741331448)}),\n",
       " (5, {'pos': (17.046542407898517, 51.10873942261532)}),\n",
       " (6, {'pos': (17.046489099876215, 51.1086676322474)}),\n",
       " (7, {'pos': (17.046338940550687, 51.10857255975646)}),\n",
       " (8, {'pos': (17.04657166816933, 51.111696234499604)}),\n",
       " (9, {'pos': (17.046466989512595, 51.11175831409584)}),\n",
       " (10, {'pos': (17.046350022036584, 51.11178574421606)}),\n",
       " (11, {'pos': (17.0457573425917, 51.111869548102625)}),\n",
       " (12, {'pos': (17.045402694974314, 51.11191660270338)}),\n",
       " (13, {'pos': (17.044870794348796, 51.111983614713196)}),\n",
       " (14, {'pos': (17.044839765271703, 51.111949110546234)}),\n",
       " (15, {'pos': (17.044387409379386, 51.112006780775666)}),\n",
       " (16, {'pos': (17.044256375542712, 51.111984302672596)}),\n",
       " (17, {'pos': (17.043997637514455, 51.11199788621499)}),\n",
       " (18, {'pos': (17.043817559046712, 51.112044935592024)}),\n",
       " (19, {'pos': (17.043106544502706, 51.11222179043273)}),\n",
       " (20, {'pos': (17.04311838009696, 51.111482363299736)})]"
      ]
     },
     "execution_count": 20,
     "metadata": {},
     "output_type": "execute_result"
    }
   ],
   "source": [
    "list(sciezki.nodes.items())[:20]"
   ]
  },
  {
   "cell_type": "code",
   "execution_count": 21,
   "id": "77bfbb99",
   "metadata": {},
   "outputs": [
    {
     "data": {
      "text/plain": [
       "[((1, 2),\n",
       "  {'length': 0.0034243079425882437,\n",
       "   'type': 'droga dla pieszych i rowerów',\n",
       "   'direction': 2.0}),\n",
       " ((1, 19351),\n",
       "  {'length': 0.00851833757835794,\n",
       "   'type': 'droga dla pieszych i rowerów',\n",
       "   'direction': 2.0}),\n",
       " ((1, 52646),\n",
       "  {'length': 0.020012760521502394,\n",
       "   'type': 'droga dla rowerów',\n",
       "   'direction': 2.0}),\n",
       " ((1, 81736),\n",
       "  {'length': 0.01817516505124869,\n",
       "   'type': 'strefa ruchu uspokojonego 20 i 30 km/h',\n",
       "   'direction': 2.0}),\n",
       " ((2, 66477),\n",
       "  {'length': 0.046424317475681355,\n",
       "   'type': 'droga dla pieszych i rowerów',\n",
       "   'direction': 2.0}),\n",
       " ((3, 4),\n",
       "  {'length': 0.010433257293806257,\n",
       "   'type': 'droga dla pieszych i rowerów',\n",
       "   'direction': 2.0}),\n",
       " ((3, 1658),\n",
       "  {'length': 0.019274480834881185,\n",
       "   'type': 'droga dla pieszych i rowerów',\n",
       "   'direction': 2.0}),\n",
       " ((3, 1664),\n",
       "  {'length': 0.036166095087968884,\n",
       "   'type': 'droga dla pieszych i rowerów',\n",
       "   'direction': 2.0}),\n",
       " ((3, 4063),\n",
       "  {'length': 0.0018347509996322056,\n",
       "   'type': 'trasa przez park',\n",
       "   'direction': 2.0}),\n",
       " ((4, 5),\n",
       "  {'length': 0.009784935819193794,\n",
       "   'type': 'droga dla pieszych i rowerów',\n",
       "   'direction': 2.0}),\n",
       " ((5, 6),\n",
       "  {'length': 0.0088076223337752,\n",
       "   'type': 'droga dla pieszych i rowerów',\n",
       "   'direction': 2.0}),\n",
       " ((6, 7),\n",
       "  {'length': 0.014888048730273887,\n",
       "   'type': 'droga dla pieszych i rowerów',\n",
       "   'direction': 2.0}),\n",
       " ((7, 66284),\n",
       "  {'length': 0.004495659255192528,\n",
       "   'type': 'droga dla pieszych i rowerów',\n",
       "   'direction': 2.0}),\n",
       " ((7, 67949),\n",
       "  {'length': 0.0029567769526371275,\n",
       "   'type': 'droga dla pieszych i rowerów',\n",
       "   'direction': 2.0}),\n",
       " ((8, 9),\n",
       "  {'length': 0.010052345029332783,\n",
       "   'type': 'droga dla rowerów',\n",
       "   'direction': 2.0}),\n",
       " ((8, 36350),\n",
       "  {'length': 0.009060521723714398,\n",
       "   'type': 'droga dla rowerów',\n",
       "   'direction': 2.0}),\n",
       " ((8, 68527),\n",
       "  {'length': 0.03229416170583307,\n",
       "   'type': 'droga dla pieszych i rowerów',\n",
       "   'direction': 2.0}),\n",
       " ((9, 10),\n",
       "  {'length': 0.0087163991653925,\n",
       "   'type': 'droga dla rowerów',\n",
       "   'direction': 2.0}),\n",
       " ((10, 11),\n",
       "  {'length': 0.0424104453787805,\n",
       "   'type': 'droga dla rowerów',\n",
       "   'direction': 2.0}),\n",
       " ((11, 12),\n",
       "  {'length': 0.025304213893768288,\n",
       "   'type': 'droga dla rowerów',\n",
       "   'direction': 2.0})]"
      ]
     },
     "execution_count": 21,
     "metadata": {},
     "output_type": "execute_result"
    }
   ],
   "source": [
    "list(sciezki.edges.items())[:20]  # len in km"
   ]
  },
  {
   "cell_type": "code",
   "execution_count": 5,
   "id": "664503f8",
   "metadata": {},
   "outputs": [],
   "source": [
    "attractions = GraphGenerator().read_graph(\"data/attractions\")"
   ]
  },
  {
   "cell_type": "code",
   "execution_count": 31,
   "id": "4b3b7544",
   "metadata": {},
   "outputs": [
    {
     "data": {
      "text/plain": [
       "[(1, {'pos': (17.005575, 51.1285499), 'name': None}),\n",
       " (2, {'pos': (17.0228408, 51.1107048), 'name': 'Państwo Krasnalscy'}),\n",
       " (3, {'pos': (17.0304809, 51.1111876), 'name': 'Śpioch'}),\n",
       " (4, {'pos': (17.0324688, 51.1123983), 'name': 'Więziennik'}),\n",
       " (5, {'pos': (17.0316579, 51.1100205), 'name': 'TynQuś'}),\n",
       " (6, {'pos': (17.0337939, 51.1110932), 'name': 'Pierożnik'}),\n",
       " (7, {'pos': (17.0312014, 51.1104557), 'name': 'Życzliwek'}),\n",
       " (8, {'pos': (17.0288251, 51.1122946), 'name': 'Krasnal Teatralny'}),\n",
       " (9, {'pos': (17.0316685, 51.1095762), 'name': 'W-Skers'}),\n",
       " (10, {'pos': (17.0276391, 51.0950539), 'name': 'Kupczyk'}),\n",
       " (11, {'pos': (17.0332222, 51.1096058), 'name': 'Kolekcjoner'}),\n",
       " (12, {'pos': (17.0303313, 51.1121319), 'name': 'Rzeźnik'}),\n",
       " (13, {'pos': (17.0305888, 51.1113077), 'name': 'Dietrich Bonhoeffer'}),\n",
       " (14, {'pos': (17.0268434, 51.1012216), 'name': 'Wrocławianin'}),\n",
       " (15, {'pos': (17.0343733, 51.1097809), 'name': 'Klucznik'}),\n",
       " (16, {'pos': (17.0456361, 51.1141637), 'name': 'Madonna z Dzieciątkiem'}),\n",
       " (17, {'pos': (17.0372048, 51.0947936), 'name': 'Freudek'}),\n",
       " (18, {'pos': (17.016553, 51.088544), 'name': 'Luminator'}),\n",
       " (19, {'pos': (16.9844633, 51.1127897), 'name': 'Alpinki'}),\n",
       " (20, {'pos': (17.0239235, 51.1083231), 'name': 'Temidek'})]"
      ]
     },
     "execution_count": 31,
     "metadata": {},
     "output_type": "execute_result"
    }
   ],
   "source": [
    "list(attractions.nodes.items())[:20]"
   ]
  },
  {
   "cell_type": "code",
   "execution_count": 26,
   "id": "5bf17dca",
   "metadata": {},
   "outputs": [],
   "source": [
    "roads = GraphGenerator().read_graph(\"data/roads\")"
   ]
  },
  {
   "cell_type": "code",
   "execution_count": 27,
   "id": "51867d74",
   "metadata": {},
   "outputs": [
    {
     "data": {
      "text/plain": [
       "363567"
      ]
     },
     "execution_count": 27,
     "metadata": {},
     "output_type": "execute_result"
    }
   ],
   "source": [
    "len(list(roads.nodes.items()))"
   ]
  },
  {
   "cell_type": "code",
   "execution_count": 30,
   "id": "e07454b2",
   "metadata": {},
   "outputs": [
    {
     "data": {
      "text/plain": [
       "[((1, 2), {'length': 0.008315940178920017}),\n",
       " ((1, 6), {'length': 0.04377714805026377}),\n",
       " ((1, 315629), {'length': 0.028999427284409712}),\n",
       " ((2, 3), {'length': 0.004976892650912453}),\n",
       " ((3, 4), {'length': 0.004777844775692837}),\n",
       " ((4, 5), {'length': 0.024804662310431966}),\n",
       " ((5, 9), {'length': 0.007868387125612268}),\n",
       " ((6, 7), {'length': 0.007671896014834679}),\n",
       " ((7, 8), {'length': 0.008142100240862477}),\n",
       " ((8, 9), {'length': 0.0060727583958179515}),\n",
       " ((10, 11), {'length': 0.006847669816605806}),\n",
       " ((11, 12), {'length': 0.004800362849796128}),\n",
       " ((12, 13), {'length': 0.038717311749634636}),\n",
       " ((13, 14), {'length': 0.026712922976532567}),\n",
       " ((14, 15), {'length': 0.005352366981611951}),\n",
       " ((15, 16), {'length': 0.046033138070990604}),\n",
       " ((16, 17), {'length': 0.024777415915301908}),\n",
       " ((17, 18), {'length': 0.005876421817823748}),\n",
       " ((18, 24912), {'length': 0.0054645614742736505}),\n",
       " ((19, 20), {'length': 0.008546882134737263})]"
      ]
     },
     "execution_count": 30,
     "metadata": {},
     "output_type": "execute_result"
    }
   ],
   "source": [
    "list(roads.edges.items())[:20]  # len in km"
   ]
  }
 ],
 "metadata": {
  "kernelspec": {
   "display_name": "Python 3 (ipykernel)",
   "language": "python",
   "name": "python3"
  },
  "language_info": {
   "codemirror_mode": {
    "name": "ipython",
    "version": 3
   },
   "file_extension": ".py",
   "mimetype": "text/x-python",
   "name": "python",
   "nbconvert_exporter": "python",
   "pygments_lexer": "ipython3",
   "version": "3.9.2"
  }
 },
 "nbformat": 4,
 "nbformat_minor": 5
}
